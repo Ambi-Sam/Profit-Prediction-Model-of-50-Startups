{
 "cells": [
  {
   "cell_type": "markdown",
   "id": "6116bd1d",
   "metadata": {},
   "source": [
    "#  Profit Prediction Model of 50 Startup Companies Using Data Science"
   ]
  },
  {
   "cell_type": "markdown",
   "id": "cec42097",
   "metadata": {},
   "source": [
    "## Author- Samrat Mukherjee"
   ]
  },
  {
   "cell_type": "code",
   "execution_count": 1,
   "id": "793e38c4",
   "metadata": {},
   "outputs": [],
   "source": [
    "import numpy as np\n",
    "import pandas as pd\n",
    "import matplotlib.pyplot as plt\n",
    "import seaborn as sns\n",
    "from numpy import math\n",
    "from sklearn.metrics import mean_squared_error\n",
    "from sklearn import metrics \n",
    "from sklearn.metrics import r2_score\n",
    "from sklearn.metrics import accuracy_score"
   ]
  },
  {
   "cell_type": "markdown",
   "id": "0c7322a3",
   "metadata": {},
   "source": [
    "# Loading the Given Data"
   ]
  },
  {
   "cell_type": "code",
   "execution_count": 2,
   "id": "34f18604",
   "metadata": {},
   "outputs": [],
   "source": [
    "#load data\n",
    "f=pd.read_csv('50_Startups.csv')"
   ]
  },
  {
   "cell_type": "code",
   "execution_count": 3,
   "id": "01cb66c3",
   "metadata": {},
   "outputs": [
    {
     "data": {
      "text/html": [
       "<div>\n",
       "<style scoped>\n",
       "    .dataframe tbody tr th:only-of-type {\n",
       "        vertical-align: middle;\n",
       "    }\n",
       "\n",
       "    .dataframe tbody tr th {\n",
       "        vertical-align: top;\n",
       "    }\n",
       "\n",
       "    .dataframe thead th {\n",
       "        text-align: right;\n",
       "    }\n",
       "</style>\n",
       "<table border=\"1\" class=\"dataframe\">\n",
       "  <thead>\n",
       "    <tr style=\"text-align: right;\">\n",
       "      <th></th>\n",
       "      <th>R&amp;D Spend</th>\n",
       "      <th>Administration</th>\n",
       "      <th>Marketing Spend</th>\n",
       "      <th>Profit</th>\n",
       "    </tr>\n",
       "  </thead>\n",
       "  <tbody>\n",
       "    <tr>\n",
       "      <th>0</th>\n",
       "      <td>165349.20</td>\n",
       "      <td>136897.80</td>\n",
       "      <td>471784.10</td>\n",
       "      <td>192261.83</td>\n",
       "    </tr>\n",
       "    <tr>\n",
       "      <th>1</th>\n",
       "      <td>162597.70</td>\n",
       "      <td>151377.59</td>\n",
       "      <td>443898.53</td>\n",
       "      <td>191792.06</td>\n",
       "    </tr>\n",
       "    <tr>\n",
       "      <th>2</th>\n",
       "      <td>153441.51</td>\n",
       "      <td>101145.55</td>\n",
       "      <td>407934.54</td>\n",
       "      <td>191050.39</td>\n",
       "    </tr>\n",
       "    <tr>\n",
       "      <th>3</th>\n",
       "      <td>144372.41</td>\n",
       "      <td>118671.85</td>\n",
       "      <td>383199.62</td>\n",
       "      <td>182901.99</td>\n",
       "    </tr>\n",
       "    <tr>\n",
       "      <th>4</th>\n",
       "      <td>142107.34</td>\n",
       "      <td>91391.77</td>\n",
       "      <td>366168.42</td>\n",
       "      <td>166187.94</td>\n",
       "    </tr>\n",
       "  </tbody>\n",
       "</table>\n",
       "</div>"
      ],
      "text/plain": [
       "   R&D Spend  Administration  Marketing Spend     Profit\n",
       "0  165349.20       136897.80        471784.10  192261.83\n",
       "1  162597.70       151377.59        443898.53  191792.06\n",
       "2  153441.51       101145.55        407934.54  191050.39\n",
       "3  144372.41       118671.85        383199.62  182901.99\n",
       "4  142107.34        91391.77        366168.42  166187.94"
      ]
     },
     "execution_count": 3,
     "metadata": {},
     "output_type": "execute_result"
    }
   ],
   "source": [
    "f.head()"
   ]
  },
  {
   "cell_type": "code",
   "execution_count": 4,
   "id": "67e972b4",
   "metadata": {},
   "outputs": [
    {
     "data": {
      "text/html": [
       "<div>\n",
       "<style scoped>\n",
       "    .dataframe tbody tr th:only-of-type {\n",
       "        vertical-align: middle;\n",
       "    }\n",
       "\n",
       "    .dataframe tbody tr th {\n",
       "        vertical-align: top;\n",
       "    }\n",
       "\n",
       "    .dataframe thead th {\n",
       "        text-align: right;\n",
       "    }\n",
       "</style>\n",
       "<table border=\"1\" class=\"dataframe\">\n",
       "  <thead>\n",
       "    <tr style=\"text-align: right;\">\n",
       "      <th></th>\n",
       "      <th>R&amp;D Spend</th>\n",
       "      <th>Administration</th>\n",
       "      <th>Marketing Spend</th>\n",
       "      <th>Profit</th>\n",
       "    </tr>\n",
       "  </thead>\n",
       "  <tbody>\n",
       "    <tr>\n",
       "      <th>count</th>\n",
       "      <td>50.000000</td>\n",
       "      <td>50.000000</td>\n",
       "      <td>50.000000</td>\n",
       "      <td>50.000000</td>\n",
       "    </tr>\n",
       "    <tr>\n",
       "      <th>mean</th>\n",
       "      <td>73721.615600</td>\n",
       "      <td>121344.639600</td>\n",
       "      <td>211025.097800</td>\n",
       "      <td>112012.639200</td>\n",
       "    </tr>\n",
       "    <tr>\n",
       "      <th>std</th>\n",
       "      <td>45902.256482</td>\n",
       "      <td>28017.802755</td>\n",
       "      <td>122290.310726</td>\n",
       "      <td>40306.180338</td>\n",
       "    </tr>\n",
       "    <tr>\n",
       "      <th>min</th>\n",
       "      <td>0.000000</td>\n",
       "      <td>51283.140000</td>\n",
       "      <td>0.000000</td>\n",
       "      <td>14681.400000</td>\n",
       "    </tr>\n",
       "    <tr>\n",
       "      <th>25%</th>\n",
       "      <td>39936.370000</td>\n",
       "      <td>103730.875000</td>\n",
       "      <td>129300.132500</td>\n",
       "      <td>90138.902500</td>\n",
       "    </tr>\n",
       "    <tr>\n",
       "      <th>50%</th>\n",
       "      <td>73051.080000</td>\n",
       "      <td>122699.795000</td>\n",
       "      <td>212716.240000</td>\n",
       "      <td>107978.190000</td>\n",
       "    </tr>\n",
       "    <tr>\n",
       "      <th>75%</th>\n",
       "      <td>101602.800000</td>\n",
       "      <td>144842.180000</td>\n",
       "      <td>299469.085000</td>\n",
       "      <td>139765.977500</td>\n",
       "    </tr>\n",
       "    <tr>\n",
       "      <th>max</th>\n",
       "      <td>165349.200000</td>\n",
       "      <td>182645.560000</td>\n",
       "      <td>471784.100000</td>\n",
       "      <td>192261.830000</td>\n",
       "    </tr>\n",
       "  </tbody>\n",
       "</table>\n",
       "</div>"
      ],
      "text/plain": [
       "           R&D Spend  Administration  Marketing Spend         Profit\n",
       "count      50.000000       50.000000        50.000000      50.000000\n",
       "mean    73721.615600   121344.639600    211025.097800  112012.639200\n",
       "std     45902.256482    28017.802755    122290.310726   40306.180338\n",
       "min         0.000000    51283.140000         0.000000   14681.400000\n",
       "25%     39936.370000   103730.875000    129300.132500   90138.902500\n",
       "50%     73051.080000   122699.795000    212716.240000  107978.190000\n",
       "75%    101602.800000   144842.180000    299469.085000  139765.977500\n",
       "max    165349.200000   182645.560000    471784.100000  192261.830000"
      ]
     },
     "execution_count": 4,
     "metadata": {},
     "output_type": "execute_result"
    }
   ],
   "source": [
    "f.describe()"
   ]
  },
  {
   "cell_type": "code",
   "execution_count": 5,
   "id": "e4a7e7f9",
   "metadata": {},
   "outputs": [
    {
     "name": "stdout",
     "output_type": "stream",
     "text": [
      "(50, 4)\n",
      "<class 'pandas.core.frame.DataFrame'>\n",
      "RangeIndex: 50 entries, 0 to 49\n",
      "Data columns (total 4 columns):\n",
      " #   Column           Non-Null Count  Dtype  \n",
      "---  ------           --------------  -----  \n",
      " 0   R&D Spend        50 non-null     float64\n",
      " 1   Administration   50 non-null     float64\n",
      " 2   Marketing Spend  50 non-null     float64\n",
      " 3   Profit           50 non-null     float64\n",
      "dtypes: float64(4)\n",
      "memory usage: 1.7 KB\n"
     ]
    }
   ],
   "source": [
    "print(f.shape)\n",
    "f.info()"
   ]
  },
  {
   "cell_type": "code",
   "execution_count": 6,
   "id": "a32e3fd6",
   "metadata": {},
   "outputs": [
    {
     "data": {
      "text/plain": [
       "R&D Spend          0\n",
       "Administration     0\n",
       "Marketing Spend    0\n",
       "Profit             0\n",
       "dtype: int64"
      ]
     },
     "execution_count": 6,
     "metadata": {},
     "output_type": "execute_result"
    }
   ],
   "source": [
    "#checking whether null is present in dataset or not\n",
    "f.isnull().sum()"
   ]
  },
  {
   "cell_type": "markdown",
   "id": "a716ba5a",
   "metadata": {},
   "source": [
    "# Visualization"
   ]
  },
  {
   "cell_type": "code",
   "execution_count": 7,
   "id": "6f6ad954",
   "metadata": {},
   "outputs": [
    {
     "data": {
      "text/plain": [
       "<seaborn.axisgrid.PairGrid at 0x1f992cfdcd0>"
      ]
     },
     "execution_count": 7,
     "metadata": {},
     "output_type": "execute_result"
    },
    {
     "data": {
      "image/png": "[encoded data removed]",
      "text/plain": [
       "<Figure size 1000x1000 with 20 Axes>"
      ]
     },
     "metadata": {},
     "output_type": "display_data"
    }
   ],
   "source": [
    "#pairwise relationship for the given dataset\n",
    "sns.pairplot(f)"
   ]
  },
  {
   "cell_type": "code",
   "execution_count": 8,
   "id": "00c1fca7",
   "metadata": {},
   "outputs": [
    {
     "data": {
      "text/plain": [
       "<Axes: >"
      ]
     },
     "execution_count": 8,
     "metadata": {},
     "output_type": "execute_result"
    },
    {
     "data": {
      "image/png": "[encoded data removed]",
      "text/plain": [
       "<Figure size 1000x400 with 2 Axes>"
      ]
     },
     "metadata": {},
     "output_type": "display_data"
    }
   ],
   "source": [
    "correlation_matrix=f.corr().round(2)\n",
    "fig,ax=plt.subplots(figsize=(10,4))\n",
    "sns.heatmap(data=correlation_matrix,annot=True)"
   ]
  },
  {
   "cell_type": "markdown",
   "id": "1174d211",
   "metadata": {},
   "source": [
    "**Since we have to predict the Profit, the Profit is a dependeble variable and the rest i.e R&D Spend,Administration,\tMarketing Spend\tare independent variables**"
   ]
  },
  {
   "cell_type": "markdown",
   "id": "7dd640a8",
   "metadata": {},
   "source": [
    "## Outlier Detection and Removal"
   ]
  },
  {
   "cell_type": "code",
   "execution_count": 9,
   "id": "643530d5",
   "metadata": {},
   "outputs": [
    {
     "data": {
      "text/plain": [
       "<Axes: >"
      ]
     },
     "execution_count": 9,
     "metadata": {},
     "output_type": "execute_result"
    },
    {
     "data": {
      "image/png": "[encoded data removed]",
      "text/plain": [
       "<Figure size 640x480 with 1 Axes>"
      ]
     },
     "metadata": {},
     "output_type": "display_data"
    }
   ],
   "source": [
    "sns.boxplot(f['R&D Spend'])"
   ]
  },
  {
   "cell_type": "code",
   "execution_count": 10,
   "id": "ec06ab75",
   "metadata": {},
   "outputs": [
    {
     "data": {
      "text/plain": [
       "<Axes: >"
      ]
     },
     "execution_count": 10,
     "metadata": {},
     "output_type": "execute_result"
    },
    {
     "data": {
      "image/png": "[encoded data removed]",
      "text/plain": [
       "<Figure size 640x480 with 1 Axes>"
      ]
     },
     "metadata": {},
     "output_type": "display_data"
    }
   ],
   "source": [
    "sns.boxplot(f['Administration'])"
   ]
  },
  {
   "cell_type": "code",
   "execution_count": 11,
   "id": "6011c428",
   "metadata": {},
   "outputs": [
    {
     "data": {
      "text/plain": [
       "<Axes: >"
      ]
     },
     "execution_count": 11,
     "metadata": {},
     "output_type": "execute_result"
    },
    {
     "data": {
      "image/png": "[encoded data removed]",
      "text/plain": [
       "<Figure size 640x480 with 1 Axes>"
      ]
     },
     "metadata": {},
     "output_type": "display_data"
    }
   ],
   "source": [
    "sns.boxplot(f['Marketing Spend'])"
   ]
  },
  {
   "cell_type": "code",
   "execution_count": 12,
   "id": "d0b7b568",
   "metadata": {},
   "outputs": [
    {
     "data": {
      "text/html": [
       "<div>\n",
       "<style scoped>\n",
       "    .dataframe tbody tr th:only-of-type {\n",
       "        vertical-align: middle;\n",
       "    }\n",
       "\n",
       "    .dataframe tbody tr th {\n",
       "        vertical-align: top;\n",
       "    }\n",
       "\n",
       "    .dataframe thead th {\n",
       "        text-align: right;\n",
       "    }\n",
       "</style>\n",
       "<table border=\"1\" class=\"dataframe\">\n",
       "  <thead>\n",
       "    <tr style=\"text-align: right;\">\n",
       "      <th></th>\n",
       "      <th>R&amp;D Spend</th>\n",
       "    </tr>\n",
       "  </thead>\n",
       "  <tbody>\n",
       "    <tr>\n",
       "      <th>count</th>\n",
       "      <td>50.000000</td>\n",
       "    </tr>\n",
       "    <tr>\n",
       "      <th>mean</th>\n",
       "      <td>73721.615600</td>\n",
       "    </tr>\n",
       "    <tr>\n",
       "      <th>std</th>\n",
       "      <td>45902.256482</td>\n",
       "    </tr>\n",
       "    <tr>\n",
       "      <th>min</th>\n",
       "      <td>0.000000</td>\n",
       "    </tr>\n",
       "    <tr>\n",
       "      <th>0%</th>\n",
       "      <td>0.000000</td>\n",
       "    </tr>\n",
       "    <tr>\n",
       "      <th>5%</th>\n",
       "      <td>748.231000</td>\n",
       "    </tr>\n",
       "    <tr>\n",
       "      <th>10%</th>\n",
       "      <td>14086.703000</td>\n",
       "    </tr>\n",
       "    <tr>\n",
       "      <th>30%</th>\n",
       "      <td>46302.455000</td>\n",
       "    </tr>\n",
       "    <tr>\n",
       "      <th>50%</th>\n",
       "      <td>73051.080000</td>\n",
       "    </tr>\n",
       "    <tr>\n",
       "      <th>75%</th>\n",
       "      <td>101602.800000</td>\n",
       "    </tr>\n",
       "    <tr>\n",
       "      <th>90%</th>\n",
       "      <td>135364.648000</td>\n",
       "    </tr>\n",
       "    <tr>\n",
       "      <th>99%</th>\n",
       "      <td>164000.965000</td>\n",
       "    </tr>\n",
       "    <tr>\n",
       "      <th>100%</th>\n",
       "      <td>165349.200000</td>\n",
       "    </tr>\n",
       "    <tr>\n",
       "      <th>max</th>\n",
       "      <td>165349.200000</td>\n",
       "    </tr>\n",
       "  </tbody>\n",
       "</table>\n",
       "</div>"
      ],
      "text/plain": [
       "           R&D Spend\n",
       "count      50.000000\n",
       "mean    73721.615600\n",
       "std     45902.256482\n",
       "min         0.000000\n",
       "0%          0.000000\n",
       "5%        748.231000\n",
       "10%     14086.703000\n",
       "30%     46302.455000\n",
       "50%     73051.080000\n",
       "75%    101602.800000\n",
       "90%    135364.648000\n",
       "99%    164000.965000\n",
       "100%   165349.200000\n",
       "max    165349.200000"
      ]
     },
     "execution_count": 12,
     "metadata": {},
     "output_type": "execute_result"
    }
   ],
   "source": [
    "pd.DataFrame(f['R&D Spend']).describe(percentiles=(1,0.99,0.9,0.75,0.5,0.3,0.1,0.05,0.0))"
   ]
  },
  {
   "cell_type": "markdown",
   "id": "b37c8882",
   "metadata": {},
   "source": [
    "***No Outliers Found***"
   ]
  },
  {
   "cell_type": "markdown",
   "id": "8bf1b5f1",
   "metadata": {},
   "source": [
    "# Model Building"
   ]
  },
  {
   "cell_type": "code",
   "execution_count": 13,
   "id": "4d9dc058",
   "metadata": {},
   "outputs": [],
   "source": [
    "Dependent_Variable = 'Profit'"
   ]
  },
  {
   "cell_type": "code",
   "execution_count": 14,
   "id": "894c814f",
   "metadata": {},
   "outputs": [],
   "source": [
    "#creating a list of independent variable\n",
    "Indepentdent_Variables= f.columns.tolist()\n",
    "Indepentdent_Variables.remove(Dependent_Variable)"
   ]
  },
  {
   "cell_type": "code",
   "execution_count": 15,
   "id": "9118e00e",
   "metadata": {},
   "outputs": [
    {
     "data": {
      "text/plain": [
       "['R&D Spend', 'Administration', 'Marketing Spend']"
      ]
     },
     "execution_count": 15,
     "metadata": {},
     "output_type": "execute_result"
    }
   ],
   "source": [
    "Indepentdent_Variables"
   ]
  },
  {
   "cell_type": "markdown",
   "id": "0c859907",
   "metadata": {},
   "source": [
    "# Splitting of data into test and train data"
   ]
  },
  {
   "cell_type": "code",
   "execution_count": 16,
   "id": "42d60331",
   "metadata": {},
   "outputs": [],
   "source": [
    "x = f[Indepentdent_Variables].values\n",
    "y = f[Dependent_Variable].values"
   ]
  },
  {
   "cell_type": "code",
   "execution_count": 17,
   "id": "45887c63",
   "metadata": {},
   "outputs": [],
   "source": [
    "#splitting test data = 20% and train data = 80%\n",
    "from sklearn.model_selection import train_test_split\n",
    "x_train, x_test,y_train,y_test =train_test_split(x,y,train_size=0.8,random_state=0)"
   ]
  },
  {
   "cell_type": "markdown",
   "id": "57838eb5",
   "metadata": {},
   "source": [
    "# Model No.1- The linear Regression Model"
   ]
  },
  {
   "cell_type": "code",
   "execution_count": 18,
   "id": "539466ee",
   "metadata": {},
   "outputs": [
    {
     "data": {
      "text/html": [
       "<style>#sk-container-id-1 {color: black;background-color: white;}#sk-container-id-1 pre{padding: 0;}#sk-container-id-1 div.sk-toggleable {background-color: white;}#sk-container-id-1 label.sk-toggleable__label {cursor: pointer;display: block;width: 100%;margin-bottom: 0;padding: 0.3em;box-sizing: border-box;text-align: center;}#sk-container-id-1 label.sk-toggleable__label-arrow:before {content: \"▸\";float: left;margin-right: 0.25em;color: #696969;}#sk-container-id-1 label.sk-toggleable__label-arrow:hover:before {color: black;}#sk-container-id-1 div.sk-estimator:hover label.sk-toggleable__label-arrow:before {color: black;}#sk-container-id-1 div.sk-toggleable__content {max-height: 0;max-width: 0;overflow: hidden;text-align: left;background-color: #f0f8ff;}#sk-container-id-1 div.sk-toggleable__content pre {margin: 0.2em;color: black;border-radius: 0.25em;background-color: #f0f8ff;}#sk-container-id-1 input.sk-toggleable__control:checked~div.sk-toggleable__content {max-height: 200px;max-width: 100%;overflow: auto;}#sk-container-id-1 input.sk-toggleable__control:checked~label.sk-toggleable__label-arrow:before {content: \"▾\";}#sk-container-id-1 div.sk-estimator input.sk-toggleable__control:checked~label.sk-toggleable__label {background-color: #d4ebff;}#sk-container-id-1 div.sk-label input.sk-toggleable__control:checked~label.sk-toggleable__label {background-color: #d4ebff;}#sk-container-id-1 input.sk-hidden--visually {border: 0;clip: rect(1px 1px 1px 1px);clip: rect(1px, 1px, 1px, 1px);height: 1px;margin: -1px;overflow: hidden;padding: 0;position: absolute;width: 1px;}#sk-container-id-1 div.sk-estimator {font-family: monospace;background-color: #f0f8ff;border: 1px dotted black;border-radius: 0.25em;box-sizing: border-box;margin-bottom: 0.5em;}#sk-container-id-1 div.sk-estimator:hover {background-color: #d4ebff;}#sk-container-id-1 div.sk-parallel-item::after {content: \"\";width: 100%;border-bottom: 1px solid gray;flex-grow: 1;}#sk-container-id-1 div.sk-label:hover label.sk-toggleable__label {background-color: #d4ebff;}#sk-container-id-1 div.sk-serial::before {content: \"\";position: absolute;border-left: 1px solid gray;box-sizing: border-box;top: 0;bottom: 0;left: 50%;z-index: 0;}#sk-container-id-1 div.sk-serial {display: flex;flex-direction: column;align-items: center;background-color: white;padding-right: 0.2em;padding-left: 0.2em;position: relative;}#sk-container-id-1 div.sk-item {position: relative;z-index: 1;}#sk-container-id-1 div.sk-parallel {display: flex;align-items: stretch;justify-content: center;background-color: white;position: relative;}#sk-container-id-1 div.sk-item::before, #sk-container-id-1 div.sk-parallel-item::before {content: \"\";position: absolute;border-left: 1px solid gray;box-sizing: border-box;top: 0;bottom: 0;left: 50%;z-index: -1;}#sk-container-id-1 div.sk-parallel-item {display: flex;flex-direction: column;z-index: 1;position: relative;background-color: white;}#sk-container-id-1 div.sk-parallel-item:first-child::after {align-self: flex-end;width: 50%;}#sk-container-id-1 div.sk-parallel-item:last-child::after {align-self: flex-start;width: 50%;}#sk-container-id-1 div.sk-parallel-item:only-child::after {width: 0;}#sk-container-id-1 div.sk-dashed-wrapped {border: 1px dashed gray;margin: 0 0.4em 0.5em 0.4em;box-sizing: border-box;padding-bottom: 0.4em;background-color: white;}#sk-container-id-1 div.sk-label label {font-family: monospace;font-weight: bold;display: inline-block;line-height: 1.2em;}#sk-container-id-1 div.sk-label-container {text-align: center;}#sk-container-id-1 div.sk-container {/* jupyter's `normalize.less` sets `[hidden] { display: none; }` but bootstrap.min.css set `[hidden] { display: none !important; }` so we also need the `!important` here to be able to override the default hidden behavior on the sphinx rendered scikit-learn.org. See: https://github.com/scikit-learn/scikit-learn/issues/21755 */display: inline-block !important;position: relative;}#sk-container-id-1 div.sk-text-repr-fallback {display: none;}</style><div id=\"sk-container-id-1\" class=\"sk-top-container\"><div class=\"sk-text-repr-fallback\"><pre>LinearRegression()</pre><b>In a Jupyter environment, please rerun this cell to show the HTML representation or trust the notebook. <br />On GitHub, the HTML representation is unable to render, please try loading this page with nbviewer.org.</b></div><div class=\"sk-container\" hidden><div class=\"sk-item\"><div class=\"sk-estimator sk-toggleable\"><input class=\"sk-toggleable__control sk-hidden--visually\" id=\"sk-estimator-id-1\" type=\"checkbox\" checked><label for=\"sk-estimator-id-1\" class=\"sk-toggleable__label sk-toggleable__label-arrow\">LinearRegression</label><div class=\"sk-toggleable__content\"><pre>LinearRegression()</pre></div></div></div></div></div>"
      ],
      "text/plain": [
       "LinearRegression()"
      ]
     },
     "execution_count": 18,
     "metadata": {},
     "output_type": "execute_result"
    }
   ],
   "source": [
    "from sklearn.linear_model import LinearRegression\n",
    "lin_model=LinearRegression()\n",
    "lin_model.fit(x_train,y_train)"
   ]
  },
  {
   "cell_type": "code",
   "execution_count": 19,
   "id": "9e73593c",
   "metadata": {},
   "outputs": [
    {
     "data": {
      "text/html": [
       "<div>\n",
       "<style scoped>\n",
       "    .dataframe tbody tr th:only-of-type {\n",
       "        vertical-align: middle;\n",
       "    }\n",
       "\n",
       "    .dataframe tbody tr th {\n",
       "        vertical-align: top;\n",
       "    }\n",
       "\n",
       "    .dataframe thead th {\n",
       "        text-align: right;\n",
       "    }\n",
       "</style>\n",
       "<table border=\"1\" class=\"dataframe\">\n",
       "  <thead>\n",
       "    <tr style=\"text-align: right;\">\n",
       "      <th></th>\n",
       "      <th>Actual</th>\n",
       "      <th>Predicted</th>\n",
       "    </tr>\n",
       "  </thead>\n",
       "  <tbody>\n",
       "    <tr>\n",
       "      <th>0</th>\n",
       "      <td>103282.38</td>\n",
       "      <td>103901.896970</td>\n",
       "    </tr>\n",
       "    <tr>\n",
       "      <th>1</th>\n",
       "      <td>144259.40</td>\n",
       "      <td>132763.059931</td>\n",
       "    </tr>\n",
       "    <tr>\n",
       "      <th>2</th>\n",
       "      <td>146121.95</td>\n",
       "      <td>133567.903700</td>\n",
       "    </tr>\n",
       "    <tr>\n",
       "      <th>3</th>\n",
       "      <td>77798.83</td>\n",
       "      <td>72911.789767</td>\n",
       "    </tr>\n",
       "    <tr>\n",
       "      <th>4</th>\n",
       "      <td>191050.39</td>\n",
       "      <td>179627.925672</td>\n",
       "    </tr>\n",
       "    <tr>\n",
       "      <th>5</th>\n",
       "      <td>105008.31</td>\n",
       "      <td>115166.648648</td>\n",
       "    </tr>\n",
       "    <tr>\n",
       "      <th>6</th>\n",
       "      <td>81229.06</td>\n",
       "      <td>67113.576906</td>\n",
       "    </tr>\n",
       "    <tr>\n",
       "      <th>7</th>\n",
       "      <td>97483.56</td>\n",
       "      <td>98154.806868</td>\n",
       "    </tr>\n",
       "    <tr>\n",
       "      <th>8</th>\n",
       "      <td>110352.25</td>\n",
       "      <td>114756.115552</td>\n",
       "    </tr>\n",
       "    <tr>\n",
       "      <th>9</th>\n",
       "      <td>166187.94</td>\n",
       "      <td>169064.014088</td>\n",
       "    </tr>\n",
       "  </tbody>\n",
       "</table>\n",
       "</div>"
      ],
      "text/plain": [
       "      Actual      Predicted\n",
       "0  103282.38  103901.896970\n",
       "1  144259.40  132763.059931\n",
       "2  146121.95  133567.903700\n",
       "3   77798.83   72911.789767\n",
       "4  191050.39  179627.925672\n",
       "5  105008.31  115166.648648\n",
       "6   81229.06   67113.576906\n",
       "7   97483.56   98154.806868\n",
       "8  110352.25  114756.115552\n",
       "9  166187.94  169064.014088"
      ]
     },
     "execution_count": 19,
     "metadata": {},
     "output_type": "execute_result"
    }
   ],
   "source": [
    "# Dataframe Comparing Actual vs Predicted\n",
    "lin_pred=lin_model.predict(x_test)\n",
    "df = pd.DataFrame({'Actual': y_test, 'Predicted': lin_pred})  \n",
    "df "
   ]
  },
  {
   "cell_type": "code",
   "execution_count": 20,
   "id": "11c7ff62",
   "metadata": {},
   "outputs": [
    {
     "data": {
      "image/png": "[encoded data removed]",
      "text/plain": [
       "<Figure size 640x480 with 1 Axes>"
      ]
     },
     "metadata": {},
     "output_type": "display_data"
    }
   ],
   "source": [
    "# Visualization of Actual vs Predicted\n",
    "plt.plot(lin_pred, label='Predicted')\n",
    "plt.plot(y_test,label='Actual')\n",
    "plt.legend(loc=\"upper left\")\n",
    "plt.show()"
   ]
  },
  {
   "cell_type": "markdown",
   "id": "6ee1e5a3",
   "metadata": {},
   "source": [
    "# Evaluation Metrics"
   ]
  },
  {
   "cell_type": "code",
   "execution_count": 21,
   "id": "9ff43907",
   "metadata": {},
   "outputs": [
    {
     "data": {
      "text/plain": [
       "8803.775790469346"
      ]
     },
     "execution_count": 21,
     "metadata": {},
     "output_type": "execute_result"
    }
   ],
   "source": [
    "math.sqrt(mean_squared_error(y_test,lin_pred))"
   ]
  },
  {
   "cell_type": "code",
   "execution_count": 22,
   "id": "445b5617",
   "metadata": {},
   "outputs": [
    {
     "name": "stdout",
     "output_type": "stream",
     "text": [
      "Mean Absolute Error: 7320.44161484813\n"
     ]
    }
   ],
   "source": [
    " print('Mean Absolute Error:', metrics.mean_absolute_error(lin_pred,y_test)) "
   ]
  },
  {
   "cell_type": "code",
   "execution_count": 23,
   "id": "b2580182",
   "metadata": {},
   "outputs": [
    {
     "data": {
      "text/plain": [
       "0.94"
      ]
     },
     "execution_count": 23,
     "metadata": {},
     "output_type": "execute_result"
    }
   ],
   "source": [
    "#This is the value of R^2\n",
    "np.round(metrics.r2_score(lin_pred, y_test),2)"
   ]
  },
  {
   "cell_type": "markdown",
   "id": "4afdb262",
   "metadata": {},
   "source": [
    "# Accuracy Function for regression"
   ]
  },
  {
   "cell_type": "code",
   "execution_count": 24,
   "id": "f00e7309",
   "metadata": {},
   "outputs": [],
   "source": [
    "def evaluate(model, test_features, test_labels, y_pred):\n",
    "    errors = abs(y_pred - test_labels)\n",
    "    mape = 100 * np.mean(errors / test_labels)\n",
    "    accuracy = 100 - mape\n",
    "    print('Model Performance')\n",
    "    print('Average Error: {:0.4f} degrees.'.format(np.mean(errors)))\n",
    "    print('Accuracy = {:0.2f}%.'.format(accuracy))\n",
    "    return accuracy"
   ]
  },
  {
   "cell_type": "code",
   "execution_count": 25,
   "id": "01f17ebf",
   "metadata": {},
   "outputs": [],
   "source": [
    "Accuracy=[]"
   ]
  },
  {
   "cell_type": "code",
   "execution_count": 26,
   "id": "7b0d589a",
   "metadata": {},
   "outputs": [
    {
     "name": "stdout",
     "output_type": "stream",
     "text": [
      "Model Performance\n",
      "Average Error: 7320.4416 degrees.\n",
      "Accuracy = 93.71%.\n"
     ]
    }
   ],
   "source": [
    "Accuracy_lin_model = evaluate(lin_model,x_test,y_test,lin_pred)\n",
    "Accuracy.append(Accuracy_lin_model)"
   ]
  },
  {
   "cell_type": "markdown",
   "id": "ef8a3048",
   "metadata": {},
   "source": [
    "# Model No.2- The Cross decomposition(PLS Regression) Model "
   ]
  },
  {
   "cell_type": "code",
   "execution_count": 27,
   "id": "9600829f",
   "metadata": {},
   "outputs": [
    {
     "data": {
      "text/html": [
       "<style>#sk-container-id-2 {color: black;background-color: white;}#sk-container-id-2 pre{padding: 0;}#sk-container-id-2 div.sk-toggleable {background-color: white;}#sk-container-id-2 label.sk-toggleable__label {cursor: pointer;display: block;width: 100%;margin-bottom: 0;padding: 0.3em;box-sizing: border-box;text-align: center;}#sk-container-id-2 label.sk-toggleable__label-arrow:before {content: \"▸\";float: left;margin-right: 0.25em;color: #696969;}#sk-container-id-2 label.sk-toggleable__label-arrow:hover:before {color: black;}#sk-container-id-2 div.sk-estimator:hover label.sk-toggleable__label-arrow:before {color: black;}#sk-container-id-2 div.sk-toggleable__content {max-height: 0;max-width: 0;overflow: hidden;text-align: left;background-color: #f0f8ff;}#sk-container-id-2 div.sk-toggleable__content pre {margin: 0.2em;color: black;border-radius: 0.25em;background-color: #f0f8ff;}#sk-container-id-2 input.sk-toggleable__control:checked~div.sk-toggleable__content {max-height: 200px;max-width: 100%;overflow: auto;}#sk-container-id-2 input.sk-toggleable__control:checked~label.sk-toggleable__label-arrow:before {content: \"▾\";}#sk-container-id-2 div.sk-estimator input.sk-toggleable__control:checked~label.sk-toggleable__label {background-color: #d4ebff;}#sk-container-id-2 div.sk-label input.sk-toggleable__control:checked~label.sk-toggleable__label {background-color: #d4ebff;}#sk-container-id-2 input.sk-hidden--visually {border: 0;clip: rect(1px 1px 1px 1px);clip: rect(1px, 1px, 1px, 1px);height: 1px;margin: -1px;overflow: hidden;padding: 0;position: absolute;width: 1px;}#sk-container-id-2 div.sk-estimator {font-family: monospace;background-color: #f0f8ff;border: 1px dotted black;border-radius: 0.25em;box-sizing: border-box;margin-bottom: 0.5em;}#sk-container-id-2 div.sk-estimator:hover {background-color: #d4ebff;}#sk-container-id-2 div.sk-parallel-item::after {content: \"\";width: 100%;border-bottom: 1px solid gray;flex-grow: 1;}#sk-container-id-2 div.sk-label:hover label.sk-toggleable__label {background-color: #d4ebff;}#sk-container-id-2 div.sk-serial::before {content: \"\";position: absolute;border-left: 1px solid gray;box-sizing: border-box;top: 0;bottom: 0;left: 50%;z-index: 0;}#sk-container-id-2 div.sk-serial {display: flex;flex-direction: column;align-items: center;background-color: white;padding-right: 0.2em;padding-left: 0.2em;position: relative;}#sk-container-id-2 div.sk-item {position: relative;z-index: 1;}#sk-container-id-2 div.sk-parallel {display: flex;align-items: stretch;justify-content: center;background-color: white;position: relative;}#sk-container-id-2 div.sk-item::before, #sk-container-id-2 div.sk-parallel-item::before {content: \"\";position: absolute;border-left: 1px solid gray;box-sizing: border-box;top: 0;bottom: 0;left: 50%;z-index: -1;}#sk-container-id-2 div.sk-parallel-item {display: flex;flex-direction: column;z-index: 1;position: relative;background-color: white;}#sk-container-id-2 div.sk-parallel-item:first-child::after {align-self: flex-end;width: 50%;}#sk-container-id-2 div.sk-parallel-item:last-child::after {align-self: flex-start;width: 50%;}#sk-container-id-2 div.sk-parallel-item:only-child::after {width: 0;}#sk-container-id-2 div.sk-dashed-wrapped {border: 1px dashed gray;margin: 0 0.4em 0.5em 0.4em;box-sizing: border-box;padding-bottom: 0.4em;background-color: white;}#sk-container-id-2 div.sk-label label {font-family: monospace;font-weight: bold;display: inline-block;line-height: 1.2em;}#sk-container-id-2 div.sk-label-container {text-align: center;}#sk-container-id-2 div.sk-container {/* jupyter's `normalize.less` sets `[hidden] { display: none; }` but bootstrap.min.css set `[hidden] { display: none !important; }` so we also need the `!important` here to be able to override the default hidden behavior on the sphinx rendered scikit-learn.org. See: https://github.com/scikit-learn/scikit-learn/issues/21755 */display: inline-block !important;position: relative;}#sk-container-id-2 div.sk-text-repr-fallback {display: none;}</style><div id=\"sk-container-id-2\" class=\"sk-top-container\"><div class=\"sk-text-repr-fallback\"><pre>PLSRegression()</pre><b>In a Jupyter environment, please rerun this cell to show the HTML representation or trust the notebook. <br />On GitHub, the HTML representation is unable to render, please try loading this page with nbviewer.org.</b></div><div class=\"sk-container\" hidden><div class=\"sk-item\"><div class=\"sk-estimator sk-toggleable\"><input class=\"sk-toggleable__control sk-hidden--visually\" id=\"sk-estimator-id-2\" type=\"checkbox\" checked><label for=\"sk-estimator-id-2\" class=\"sk-toggleable__label sk-toggleable__label-arrow\">PLSRegression</label><div class=\"sk-toggleable__content\"><pre>PLSRegression()</pre></div></div></div></div></div>"
      ],
      "text/plain": [
       "PLSRegression()"
      ]
     },
     "execution_count": 27,
     "metadata": {},
     "output_type": "execute_result"
    }
   ],
   "source": [
    "from sklearn.cross_decomposition import PLSRegression\n",
    "PLS_model=PLSRegression()\n",
    "PLS_model.fit(x_train,y_train)"
   ]
  },
  {
   "cell_type": "code",
   "execution_count": 28,
   "id": "c5e41538",
   "metadata": {},
   "outputs": [
    {
     "data": {
      "text/plain": [
       "array([[ 96637.84009914],\n",
       "       [134800.09107021],\n",
       "       [133307.55384223],\n",
       "       [ 77638.90443139],\n",
       "       [183107.36361272],\n",
       "       [120612.70749741],\n",
       "       [ 74623.30402798],\n",
       "       [ 92354.64224465],\n",
       "       [118522.92434004],\n",
       "       [172515.35637493]])"
      ]
     },
     "execution_count": 28,
     "metadata": {},
     "output_type": "execute_result"
    }
   ],
   "source": [
    "# Dataframe Comparing Actual vs Predicted\n",
    "PLS_pred=PLS_model.predict(x_test)\n",
    "PLS_pred"
   ]
  },
  {
   "cell_type": "code",
   "execution_count": 29,
   "id": "f3c06bf9",
   "metadata": {},
   "outputs": [
    {
     "data": {
      "text/plain": [
       "array([ 96637.84009914, 134800.09107021, 133307.55384223,  77638.90443139,\n",
       "       183107.36361272, 120612.70749741,  74623.30402798,  92354.64224465,\n",
       "       118522.92434004, 172515.35637493])"
      ]
     },
     "execution_count": 29,
     "metadata": {},
     "output_type": "execute_result"
    }
   ],
   "source": [
    "PLS_pred = np.reshape(PLS_pred, (1,np.product(PLS_pred.shape)))[0]\n",
    "PLS_pred"
   ]
  },
  {
   "cell_type": "code",
   "execution_count": 30,
   "id": "ce407857",
   "metadata": {},
   "outputs": [
    {
     "data": {
      "text/html": [
       "<div>\n",
       "<style scoped>\n",
       "    .dataframe tbody tr th:only-of-type {\n",
       "        vertical-align: middle;\n",
       "    }\n",
       "\n",
       "    .dataframe tbody tr th {\n",
       "        vertical-align: top;\n",
       "    }\n",
       "\n",
       "    .dataframe thead th {\n",
       "        text-align: right;\n",
       "    }\n",
       "</style>\n",
       "<table border=\"1\" class=\"dataframe\">\n",
       "  <thead>\n",
       "    <tr style=\"text-align: right;\">\n",
       "      <th></th>\n",
       "      <th>Actual</th>\n",
       "      <th>Predicted</th>\n",
       "    </tr>\n",
       "  </thead>\n",
       "  <tbody>\n",
       "    <tr>\n",
       "      <th>0</th>\n",
       "      <td>103282.38</td>\n",
       "      <td>96637.840099</td>\n",
       "    </tr>\n",
       "    <tr>\n",
       "      <th>1</th>\n",
       "      <td>144259.40</td>\n",
       "      <td>134800.091070</td>\n",
       "    </tr>\n",
       "    <tr>\n",
       "      <th>2</th>\n",
       "      <td>146121.95</td>\n",
       "      <td>133307.553842</td>\n",
       "    </tr>\n",
       "    <tr>\n",
       "      <th>3</th>\n",
       "      <td>77798.83</td>\n",
       "      <td>77638.904431</td>\n",
       "    </tr>\n",
       "    <tr>\n",
       "      <th>4</th>\n",
       "      <td>191050.39</td>\n",
       "      <td>183107.363613</td>\n",
       "    </tr>\n",
       "    <tr>\n",
       "      <th>5</th>\n",
       "      <td>105008.31</td>\n",
       "      <td>120612.707497</td>\n",
       "    </tr>\n",
       "    <tr>\n",
       "      <th>6</th>\n",
       "      <td>81229.06</td>\n",
       "      <td>74623.304028</td>\n",
       "    </tr>\n",
       "    <tr>\n",
       "      <th>7</th>\n",
       "      <td>97483.56</td>\n",
       "      <td>92354.642245</td>\n",
       "    </tr>\n",
       "    <tr>\n",
       "      <th>8</th>\n",
       "      <td>110352.25</td>\n",
       "      <td>118522.924340</td>\n",
       "    </tr>\n",
       "    <tr>\n",
       "      <th>9</th>\n",
       "      <td>166187.94</td>\n",
       "      <td>172515.356375</td>\n",
       "    </tr>\n",
       "  </tbody>\n",
       "</table>\n",
       "</div>"
      ],
      "text/plain": [
       "      Actual      Predicted\n",
       "0  103282.38   96637.840099\n",
       "1  144259.40  134800.091070\n",
       "2  146121.95  133307.553842\n",
       "3   77798.83   77638.904431\n",
       "4  191050.39  183107.363613\n",
       "5  105008.31  120612.707497\n",
       "6   81229.06   74623.304028\n",
       "7   97483.56   92354.642245\n",
       "8  110352.25  118522.924340\n",
       "9  166187.94  172515.356375"
      ]
     },
     "execution_count": 30,
     "metadata": {},
     "output_type": "execute_result"
    }
   ],
   "source": [
    "PLS_model_df = pd.DataFrame({'Actual': y_test, 'Predicted': PLS_pred})  \n",
    "PLS_model_df"
   ]
  },
  {
   "cell_type": "code",
   "execution_count": 31,
   "id": "eeea65d9",
   "metadata": {},
   "outputs": [
    {
     "data": {
      "image/png": "[encoded data removed]",
      "text/plain": [
       "<Figure size 640x480 with 1 Axes>"
      ]
     },
     "metadata": {},
     "output_type": "display_data"
    }
   ],
   "source": [
    "# Visualization of Actual vs Predicted\n",
    "plt.plot(PLS_pred, label='Predicted')\n",
    "plt.plot(y_test,label='Actual')\n",
    "plt.legend(loc=\"upper left\")\n",
    "plt.show()"
   ]
  },
  {
   "cell_type": "markdown",
   "id": "8c3270d1",
   "metadata": {},
   "source": [
    "# Evaluation Metrics \n"
   ]
  },
  {
   "cell_type": "code",
   "execution_count": 32,
   "id": "0a063acd",
   "metadata": {},
   "outputs": [
    {
     "data": {
      "text/plain": [
       "8838.49295355912"
      ]
     },
     "execution_count": 32,
     "metadata": {},
     "output_type": "execute_result"
    }
   ],
   "source": [
    "math.sqrt(mean_squared_error(y_test,PLS_pred))"
   ]
  },
  {
   "cell_type": "code",
   "execution_count": 33,
   "id": "eba46073",
   "metadata": {},
   "outputs": [
    {
     "name": "stdout",
     "output_type": "stream",
     "text": [
      "Mean Absolute Error: 7885.835888406045\n"
     ]
    }
   ],
   "source": [
    "print('Mean Absolute Error:', metrics.mean_absolute_error(PLS_pred,y_test)) \n"
   ]
  },
  {
   "cell_type": "code",
   "execution_count": 34,
   "id": "4361c332",
   "metadata": {},
   "outputs": [
    {
     "data": {
      "text/plain": [
       "0.94"
      ]
     },
     "execution_count": 34,
     "metadata": {},
     "output_type": "execute_result"
    }
   ],
   "source": [
    "#This is the value of R^2\n",
    "np.round(metrics.r2_score(PLS_pred, y_test),2)"
   ]
  },
  {
   "cell_type": "code",
   "execution_count": 35,
   "id": "e310b6cd",
   "metadata": {},
   "outputs": [
    {
     "name": "stdout",
     "output_type": "stream",
     "text": [
      "Model Performance\n",
      "Average Error: 7885.8359 degrees.\n",
      "Accuracy = 93.44%.\n"
     ]
    }
   ],
   "source": [
    "Accuracy_PLS_model = evaluate(PLS_model,x_test,y_test,PLS_pred)\n",
    "Accuracy.append(Accuracy_PLS_model)"
   ]
  },
  {
   "cell_type": "markdown",
   "id": "b92a9299",
   "metadata": {},
   "source": [
    "# Model No.3-Decision Trees Regressor Model\n"
   ]
  },
  {
   "cell_type": "code",
   "execution_count": 36,
   "id": "ec8a9602",
   "metadata": {},
   "outputs": [
    {
     "data": {
      "text/html": [
       "<style>#sk-container-id-3 {color: black;background-color: white;}#sk-container-id-3 pre{padding: 0;}#sk-container-id-3 div.sk-toggleable {background-color: white;}#sk-container-id-3 label.sk-toggleable__label {cursor: pointer;display: block;width: 100%;margin-bottom: 0;padding: 0.3em;box-sizing: border-box;text-align: center;}#sk-container-id-3 label.sk-toggleable__label-arrow:before {content: \"▸\";float: left;margin-right: 0.25em;color: #696969;}#sk-container-id-3 label.sk-toggleable__label-arrow:hover:before {color: black;}#sk-container-id-3 div.sk-estimator:hover label.sk-toggleable__label-arrow:before {color: black;}#sk-container-id-3 div.sk-toggleable__content {max-height: 0;max-width: 0;overflow: hidden;text-align: left;background-color: #f0f8ff;}#sk-container-id-3 div.sk-toggleable__content pre {margin: 0.2em;color: black;border-radius: 0.25em;background-color: #f0f8ff;}#sk-container-id-3 input.sk-toggleable__control:checked~div.sk-toggleable__content {max-height: 200px;max-width: 100%;overflow: auto;}#sk-container-id-3 input.sk-toggleable__control:checked~label.sk-toggleable__label-arrow:before {content: \"▾\";}#sk-container-id-3 div.sk-estimator input.sk-toggleable__control:checked~label.sk-toggleable__label {background-color: #d4ebff;}#sk-container-id-3 div.sk-label input.sk-toggleable__control:checked~label.sk-toggleable__label {background-color: #d4ebff;}#sk-container-id-3 input.sk-hidden--visually {border: 0;clip: rect(1px 1px 1px 1px);clip: rect(1px, 1px, 1px, 1px);height: 1px;margin: -1px;overflow: hidden;padding: 0;position: absolute;width: 1px;}#sk-container-id-3 div.sk-estimator {font-family: monospace;background-color: #f0f8ff;border: 1px dotted black;border-radius: 0.25em;box-sizing: border-box;margin-bottom: 0.5em;}#sk-container-id-3 div.sk-estimator:hover {background-color: #d4ebff;}#sk-container-id-3 div.sk-parallel-item::after {content: \"\";width: 100%;border-bottom: 1px solid gray;flex-grow: 1;}#sk-container-id-3 div.sk-label:hover label.sk-toggleable__label {background-color: #d4ebff;}#sk-container-id-3 div.sk-serial::before {content: \"\";position: absolute;border-left: 1px solid gray;box-sizing: border-box;top: 0;bottom: 0;left: 50%;z-index: 0;}#sk-container-id-3 div.sk-serial {display: flex;flex-direction: column;align-items: center;background-color: white;padding-right: 0.2em;padding-left: 0.2em;position: relative;}#sk-container-id-3 div.sk-item {position: relative;z-index: 1;}#sk-container-id-3 div.sk-parallel {display: flex;align-items: stretch;justify-content: center;background-color: white;position: relative;}#sk-container-id-3 div.sk-item::before, #sk-container-id-3 div.sk-parallel-item::before {content: \"\";position: absolute;border-left: 1px solid gray;box-sizing: border-box;top: 0;bottom: 0;left: 50%;z-index: -1;}#sk-container-id-3 div.sk-parallel-item {display: flex;flex-direction: column;z-index: 1;position: relative;background-color: white;}#sk-container-id-3 div.sk-parallel-item:first-child::after {align-self: flex-end;width: 50%;}#sk-container-id-3 div.sk-parallel-item:last-child::after {align-self: flex-start;width: 50%;}#sk-container-id-3 div.sk-parallel-item:only-child::after {width: 0;}#sk-container-id-3 div.sk-dashed-wrapped {border: 1px dashed gray;margin: 0 0.4em 0.5em 0.4em;box-sizing: border-box;padding-bottom: 0.4em;background-color: white;}#sk-container-id-3 div.sk-label label {font-family: monospace;font-weight: bold;display: inline-block;line-height: 1.2em;}#sk-container-id-3 div.sk-label-container {text-align: center;}#sk-container-id-3 div.sk-container {/* jupyter's `normalize.less` sets `[hidden] { display: none; }` but bootstrap.min.css set `[hidden] { display: none !important; }` so we also need the `!important` here to be able to override the default hidden behavior on the sphinx rendered scikit-learn.org. See: https://github.com/scikit-learn/scikit-learn/issues/21755 */display: inline-block !important;position: relative;}#sk-container-id-3 div.sk-text-repr-fallback {display: none;}</style><div id=\"sk-container-id-3\" class=\"sk-top-container\"><div class=\"sk-text-repr-fallback\"><pre>DecisionTreeRegressor()</pre><b>In a Jupyter environment, please rerun this cell to show the HTML representation or trust the notebook. <br />On GitHub, the HTML representation is unable to render, please try loading this page with nbviewer.org.</b></div><div class=\"sk-container\" hidden><div class=\"sk-item\"><div class=\"sk-estimator sk-toggleable\"><input class=\"sk-toggleable__control sk-hidden--visually\" id=\"sk-estimator-id-3\" type=\"checkbox\" checked><label for=\"sk-estimator-id-3\" class=\"sk-toggleable__label sk-toggleable__label-arrow\">DecisionTreeRegressor</label><div class=\"sk-toggleable__content\"><pre>DecisionTreeRegressor()</pre></div></div></div></div></div>"
      ],
      "text/plain": [
       "DecisionTreeRegressor()"
      ]
     },
     "execution_count": 36,
     "metadata": {},
     "output_type": "execute_result"
    }
   ],
   "source": [
    "from sklearn import tree\n",
    "tree_model = tree.DecisionTreeRegressor()\n",
    "tree_model_df = tree_model.fit(x_train,y_train)\n",
    "tree_model_df"
   ]
  },
  {
   "cell_type": "code",
   "execution_count": 37,
   "id": "0fd9555f",
   "metadata": {},
   "outputs": [
    {
     "data": {
      "text/html": [
       "<div>\n",
       "<style scoped>\n",
       "    .dataframe tbody tr th:only-of-type {\n",
       "        vertical-align: middle;\n",
       "    }\n",
       "\n",
       "    .dataframe tbody tr th {\n",
       "        vertical-align: top;\n",
       "    }\n",
       "\n",
       "    .dataframe thead th {\n",
       "        text-align: right;\n",
       "    }\n",
       "</style>\n",
       "<table border=\"1\" class=\"dataframe\">\n",
       "  <thead>\n",
       "    <tr style=\"text-align: right;\">\n",
       "      <th></th>\n",
       "      <th>Actual</th>\n",
       "      <th>Predicted</th>\n",
       "    </tr>\n",
       "  </thead>\n",
       "  <tbody>\n",
       "    <tr>\n",
       "      <th>0</th>\n",
       "      <td>103282.38</td>\n",
       "      <td>101004.64</td>\n",
       "    </tr>\n",
       "    <tr>\n",
       "      <th>1</th>\n",
       "      <td>144259.40</td>\n",
       "      <td>141585.52</td>\n",
       "    </tr>\n",
       "    <tr>\n",
       "      <th>2</th>\n",
       "      <td>146121.95</td>\n",
       "      <td>141585.52</td>\n",
       "    </tr>\n",
       "    <tr>\n",
       "      <th>3</th>\n",
       "      <td>77798.83</td>\n",
       "      <td>78239.91</td>\n",
       "    </tr>\n",
       "    <tr>\n",
       "      <th>4</th>\n",
       "      <td>191050.39</td>\n",
       "      <td>182901.99</td>\n",
       "    </tr>\n",
       "    <tr>\n",
       "      <th>5</th>\n",
       "      <td>105008.31</td>\n",
       "      <td>108733.99</td>\n",
       "    </tr>\n",
       "    <tr>\n",
       "      <th>6</th>\n",
       "      <td>81229.06</td>\n",
       "      <td>71498.49</td>\n",
       "    </tr>\n",
       "    <tr>\n",
       "      <th>7</th>\n",
       "      <td>97483.56</td>\n",
       "      <td>99937.59</td>\n",
       "    </tr>\n",
       "    <tr>\n",
       "      <th>8</th>\n",
       "      <td>110352.25</td>\n",
       "      <td>108733.99</td>\n",
       "    </tr>\n",
       "    <tr>\n",
       "      <th>9</th>\n",
       "      <td>166187.94</td>\n",
       "      <td>182901.99</td>\n",
       "    </tr>\n",
       "  </tbody>\n",
       "</table>\n",
       "</div>"
      ],
      "text/plain": [
       "      Actual  Predicted\n",
       "0  103282.38  101004.64\n",
       "1  144259.40  141585.52\n",
       "2  146121.95  141585.52\n",
       "3   77798.83   78239.91\n",
       "4  191050.39  182901.99\n",
       "5  105008.31  108733.99\n",
       "6   81229.06   71498.49\n",
       "7   97483.56   99937.59\n",
       "8  110352.25  108733.99\n",
       "9  166187.94  182901.99"
      ]
     },
     "execution_count": 37,
     "metadata": {},
     "output_type": "execute_result"
    }
   ],
   "source": [
    "tree_model_pred=tree_model.predict(x_test)\n",
    "tree_model_df = pd.DataFrame({'Actual': y_test, 'Predicted':tree_model_pred})  \n",
    "tree_model_df "
   ]
  },
  {
   "cell_type": "code",
   "execution_count": 38,
   "id": "0cf4c8dd",
   "metadata": {},
   "outputs": [
    {
     "data": {
      "image/png": "[encoded data removed]",
      "text/plain": [
       "<Figure size 640x480 with 1 Axes>"
      ]
     },
     "metadata": {},
     "output_type": "display_data"
    }
   ],
   "source": [
    "# Visualization of Actual vs Predicted\n",
    "plt.plot(tree_model_pred, label='Predicted')\n",
    "plt.plot(y_test,label='Actual')\n",
    "plt.legend(loc=\"upper left\")\n",
    "plt.show()"
   ]
  },
  {
   "cell_type": "markdown",
   "id": "e456b753",
   "metadata": {},
   "source": [
    "# Evaluation Metrics\n"
   ]
  },
  {
   "cell_type": "code",
   "execution_count": 39,
   "id": "03b4c8ef",
   "metadata": {},
   "outputs": [
    {
     "data": {
      "text/plain": [
       "7043.245594834814"
      ]
     },
     "execution_count": 39,
     "metadata": {},
     "output_type": "execute_result"
    }
   ],
   "source": [
    "math.sqrt(mean_squared_error(y_test,tree_model_pred))"
   ]
  },
  {
   "cell_type": "code",
   "execution_count": 40,
   "id": "5835f195",
   "metadata": {},
   "outputs": [
    {
     "name": "stdout",
     "output_type": "stream",
     "text": [
      "Mean Absolute Error: 5232.012000000004\n"
     ]
    }
   ],
   "source": [
    "print('Mean Absolute Error:', metrics.mean_absolute_error(tree_model_pred,y_test)) "
   ]
  },
  {
   "cell_type": "code",
   "execution_count": 41,
   "id": "5a4809ad",
   "metadata": {},
   "outputs": [
    {
     "data": {
      "text/plain": [
       "0.96"
      ]
     },
     "execution_count": 41,
     "metadata": {},
     "output_type": "execute_result"
    }
   ],
   "source": [
    "#This is the value of R^2\n",
    "np.round(metrics.r2_score(tree_model_pred, y_test),2)\n"
   ]
  },
  {
   "cell_type": "code",
   "execution_count": 42,
   "id": "9e76adcb",
   "metadata": {},
   "outputs": [
    {
     "name": "stdout",
     "output_type": "stream",
     "text": [
      "Model Performance\n",
      "Average Error: 5232.0120 degrees.\n",
      "Accuracy = 95.84%.\n"
     ]
    }
   ],
   "source": [
    "Accuracy_tree_model = evaluate(tree_model,x_test,y_test,tree_model_pred)\n",
    "Accuracy.append(Accuracy_tree_model)"
   ]
  },
  {
   "cell_type": "markdown",
   "id": "6ba6e2be",
   "metadata": {},
   "source": [
    "# Model No.4-Neural network model (supervised)"
   ]
  },
  {
   "cell_type": "code",
   "execution_count": 43,
   "id": "5616d473",
   "metadata": {},
   "outputs": [
    {
     "data": {
      "text/html": [
       "<style>#sk-container-id-4 {color: black;background-color: white;}#sk-container-id-4 pre{padding: 0;}#sk-container-id-4 div.sk-toggleable {background-color: white;}#sk-container-id-4 label.sk-toggleable__label {cursor: pointer;display: block;width: 100%;margin-bottom: 0;padding: 0.3em;box-sizing: border-box;text-align: center;}#sk-container-id-4 label.sk-toggleable__label-arrow:before {content: \"▸\";float: left;margin-right: 0.25em;color: #696969;}#sk-container-id-4 label.sk-toggleable__label-arrow:hover:before {color: black;}#sk-container-id-4 div.sk-estimator:hover label.sk-toggleable__label-arrow:before {color: black;}#sk-container-id-4 div.sk-toggleable__content {max-height: 0;max-width: 0;overflow: hidden;text-align: left;background-color: #f0f8ff;}#sk-container-id-4 div.sk-toggleable__content pre {margin: 0.2em;color: black;border-radius: 0.25em;background-color: #f0f8ff;}#sk-container-id-4 input.sk-toggleable__control:checked~div.sk-toggleable__content {max-height: 200px;max-width: 100%;overflow: auto;}#sk-container-id-4 input.sk-toggleable__control:checked~label.sk-toggleable__label-arrow:before {content: \"▾\";}#sk-container-id-4 div.sk-estimator input.sk-toggleable__control:checked~label.sk-toggleable__label {background-color: #d4ebff;}#sk-container-id-4 div.sk-label input.sk-toggleable__control:checked~label.sk-toggleable__label {background-color: #d4ebff;}#sk-container-id-4 input.sk-hidden--visually {border: 0;clip: rect(1px 1px 1px 1px);clip: rect(1px, 1px, 1px, 1px);height: 1px;margin: -1px;overflow: hidden;padding: 0;position: absolute;width: 1px;}#sk-container-id-4 div.sk-estimator {font-family: monospace;background-color: #f0f8ff;border: 1px dotted black;border-radius: 0.25em;box-sizing: border-box;margin-bottom: 0.5em;}#sk-container-id-4 div.sk-estimator:hover {background-color: #d4ebff;}#sk-container-id-4 div.sk-parallel-item::after {content: \"\";width: 100%;border-bottom: 1px solid gray;flex-grow: 1;}#sk-container-id-4 div.sk-label:hover label.sk-toggleable__label {background-color: #d4ebff;}#sk-container-id-4 div.sk-serial::before {content: \"\";position: absolute;border-left: 1px solid gray;box-sizing: border-box;top: 0;bottom: 0;left: 50%;z-index: 0;}#sk-container-id-4 div.sk-serial {display: flex;flex-direction: column;align-items: center;background-color: white;padding-right: 0.2em;padding-left: 0.2em;position: relative;}#sk-container-id-4 div.sk-item {position: relative;z-index: 1;}#sk-container-id-4 div.sk-parallel {display: flex;align-items: stretch;justify-content: center;background-color: white;position: relative;}#sk-container-id-4 div.sk-item::before, #sk-container-id-4 div.sk-parallel-item::before {content: \"\";position: absolute;border-left: 1px solid gray;box-sizing: border-box;top: 0;bottom: 0;left: 50%;z-index: -1;}#sk-container-id-4 div.sk-parallel-item {display: flex;flex-direction: column;z-index: 1;position: relative;background-color: white;}#sk-container-id-4 div.sk-parallel-item:first-child::after {align-self: flex-end;width: 50%;}#sk-container-id-4 div.sk-parallel-item:last-child::after {align-self: flex-start;width: 50%;}#sk-container-id-4 div.sk-parallel-item:only-child::after {width: 0;}#sk-container-id-4 div.sk-dashed-wrapped {border: 1px dashed gray;margin: 0 0.4em 0.5em 0.4em;box-sizing: border-box;padding-bottom: 0.4em;background-color: white;}#sk-container-id-4 div.sk-label label {font-family: monospace;font-weight: bold;display: inline-block;line-height: 1.2em;}#sk-container-id-4 div.sk-label-container {text-align: center;}#sk-container-id-4 div.sk-container {/* jupyter's `normalize.less` sets `[hidden] { display: none; }` but bootstrap.min.css set `[hidden] { display: none !important; }` so we also need the `!important` here to be able to override the default hidden behavior on the sphinx rendered scikit-learn.org. See: https://github.com/scikit-learn/scikit-learn/issues/21755 */display: inline-block !important;position: relative;}#sk-container-id-4 div.sk-text-repr-fallback {display: none;}</style><div id=\"sk-container-id-4\" class=\"sk-top-container\"><div class=\"sk-text-repr-fallback\"><pre>MLPRegressor()</pre><b>In a Jupyter environment, please rerun this cell to show the HTML representation or trust the notebook. <br />On GitHub, the HTML representation is unable to render, please try loading this page with nbviewer.org.</b></div><div class=\"sk-container\" hidden><div class=\"sk-item\"><div class=\"sk-estimator sk-toggleable\"><input class=\"sk-toggleable__control sk-hidden--visually\" id=\"sk-estimator-id-4\" type=\"checkbox\" checked><label for=\"sk-estimator-id-4\" class=\"sk-toggleable__label sk-toggleable__label-arrow\">MLPRegressor</label><div class=\"sk-toggleable__content\"><pre>MLPRegressor()</pre></div></div></div></div></div>"
      ],
      "text/plain": [
       "MLPRegressor()"
      ]
     },
     "execution_count": 43,
     "metadata": {},
     "output_type": "execute_result"
    }
   ],
   "source": [
    "from sklearn.neural_network import MLPRegressor\n",
    "mlp_model = MLPRegressor()\n",
    "mlp_df = mlp_model.fit(x_train,y_train)\n",
    "mlp_df"
   ]
  },
  {
   "cell_type": "code",
   "execution_count": 44,
   "id": "d3986d58",
   "metadata": {},
   "outputs": [
    {
     "data": {
      "text/html": [
       "<div>\n",
       "<style scoped>\n",
       "    .dataframe tbody tr th:only-of-type {\n",
       "        vertical-align: middle;\n",
       "    }\n",
       "\n",
       "    .dataframe tbody tr th {\n",
       "        vertical-align: top;\n",
       "    }\n",
       "\n",
       "    .dataframe thead th {\n",
       "        text-align: right;\n",
       "    }\n",
       "</style>\n",
       "<table border=\"1\" class=\"dataframe\">\n",
       "  <thead>\n",
       "    <tr style=\"text-align: right;\">\n",
       "      <th></th>\n",
       "      <th>Actual</th>\n",
       "      <th>Predicted</th>\n",
       "    </tr>\n",
       "  </thead>\n",
       "  <tbody>\n",
       "    <tr>\n",
       "      <th>0</th>\n",
       "      <td>103282.38</td>\n",
       "      <td>114477.435262</td>\n",
       "    </tr>\n",
       "    <tr>\n",
       "      <th>1</th>\n",
       "      <td>144259.40</td>\n",
       "      <td>117104.203083</td>\n",
       "    </tr>\n",
       "    <tr>\n",
       "      <th>2</th>\n",
       "      <td>146121.95</td>\n",
       "      <td>119116.316822</td>\n",
       "    </tr>\n",
       "    <tr>\n",
       "      <th>3</th>\n",
       "      <td>77798.83</td>\n",
       "      <td>82654.344487</td>\n",
       "    </tr>\n",
       "    <tr>\n",
       "      <th>4</th>\n",
       "      <td>191050.39</td>\n",
       "      <td>173928.119939</td>\n",
       "    </tr>\n",
       "    <tr>\n",
       "      <th>5</th>\n",
       "      <td>105008.31</td>\n",
       "      <td>159868.174400</td>\n",
       "    </tr>\n",
       "    <tr>\n",
       "      <th>6</th>\n",
       "      <td>81229.06</td>\n",
       "      <td>82185.362562</td>\n",
       "    </tr>\n",
       "    <tr>\n",
       "      <th>7</th>\n",
       "      <td>97483.56</td>\n",
       "      <td>94178.969625</td>\n",
       "    </tr>\n",
       "    <tr>\n",
       "      <th>8</th>\n",
       "      <td>110352.25</td>\n",
       "      <td>142594.519223</td>\n",
       "    </tr>\n",
       "    <tr>\n",
       "      <th>9</th>\n",
       "      <td>166187.94</td>\n",
       "      <td>156609.090665</td>\n",
       "    </tr>\n",
       "  </tbody>\n",
       "</table>\n",
       "</div>"
      ],
      "text/plain": [
       "      Actual      Predicted\n",
       "0  103282.38  114477.435262\n",
       "1  144259.40  117104.203083\n",
       "2  146121.95  119116.316822\n",
       "3   77798.83   82654.344487\n",
       "4  191050.39  173928.119939\n",
       "5  105008.31  159868.174400\n",
       "6   81229.06   82185.362562\n",
       "7   97483.56   94178.969625\n",
       "8  110352.25  142594.519223\n",
       "9  166187.94  156609.090665"
      ]
     },
     "execution_count": 44,
     "metadata": {},
     "output_type": "execute_result"
    }
   ],
   "source": [
    "mlp_pred=mlp_model.predict(x_test)\n",
    "mlp_df = pd.DataFrame({'Actual': y_test, 'Predicted':mlp_pred})  \n",
    "mlp_df "
   ]
  },
  {
   "cell_type": "code",
   "execution_count": 45,
   "id": "010d4d37",
   "metadata": {},
   "outputs": [],
   "source": [
    "mlp_df.to_csv(\"mlp.csv\")"
   ]
  },
  {
   "cell_type": "code",
   "execution_count": 46,
   "id": "29149799",
   "metadata": {},
   "outputs": [
    {
     "data": {
      "image/png": "[encoded data removed]",
      "text/plain": [
       "<Figure size 640x480 with 1 Axes>"
      ]
     },
     "metadata": {},
     "output_type": "display_data"
    }
   ],
   "source": [
    "# Visualization of Actual vs Predicted\n",
    "plt.plot(mlp_pred, label='Predicted')\n",
    "plt.plot(y_test,label='Actual')\n",
    "plt.legend(loc=\"upper left\")\n",
    "plt.show()"
   ]
  },
  {
   "cell_type": "markdown",
   "id": "937927d6",
   "metadata": {},
   "source": [
    "# Evaluation Metrics\n"
   ]
  },
  {
   "cell_type": "code",
   "execution_count": 47,
   "id": "1c9ae854",
   "metadata": {},
   "outputs": [
    {
     "data": {
      "text/plain": [
       "24620.203475199232"
      ]
     },
     "execution_count": 47,
     "metadata": {},
     "output_type": "execute_result"
    }
   ],
   "source": [
    "math.sqrt(mean_squared_error(y_test,mlp_pred))"
   ]
  },
  {
   "cell_type": "code",
   "execution_count": 48,
   "id": "68dc2f39",
   "metadata": {},
   "outputs": [
    {
     "name": "stdout",
     "output_type": "stream",
     "text": [
      "Mean Absolute Error: 18827.55458004173\n"
     ]
    }
   ],
   "source": [
    "print('Mean Absolute Error:', metrics.mean_absolute_error(mlp_pred,y_test)) "
   ]
  },
  {
   "cell_type": "code",
   "execution_count": 49,
   "id": "c9ac8dd8",
   "metadata": {},
   "outputs": [
    {
     "data": {
      "text/plain": [
       "0.37"
      ]
     },
     "execution_count": 49,
     "metadata": {},
     "output_type": "execute_result"
    }
   ],
   "source": [
    "#This is the value of R^2\n",
    "np.round(metrics.r2_score(mlp_pred, y_test),2)"
   ]
  },
  {
   "cell_type": "code",
   "execution_count": 50,
   "id": "761f46f3",
   "metadata": {},
   "outputs": [
    {
     "name": "stdout",
     "output_type": "stream",
     "text": [
      "Model Performance\n",
      "Average Error: 18827.5546 degrees.\n",
      "Accuracy = 84.49%.\n"
     ]
    }
   ],
   "source": [
    "Accuracy_mlp_model = evaluate(mlp_model,x_test,y_test,mlp_pred)\n",
    "Accuracy.append(Accuracy_mlp_model)"
   ]
  },
  {
   "cell_type": "markdown",
   "id": "4939540c",
   "metadata": {},
   "source": [
    "# Model No.5-Ensemble methods (GradientBoostingRegressor)"
   ]
  },
  {
   "cell_type": "code",
   "execution_count": 51,
   "id": "fa8ab757",
   "metadata": {},
   "outputs": [
    {
     "data": {
      "text/html": [
       "<style>#sk-container-id-5 {color: black;background-color: white;}#sk-container-id-5 pre{padding: 0;}#sk-container-id-5 div.sk-toggleable {background-color: white;}#sk-container-id-5 label.sk-toggleable__label {cursor: pointer;display: block;width: 100%;margin-bottom: 0;padding: 0.3em;box-sizing: border-box;text-align: center;}#sk-container-id-5 label.sk-toggleable__label-arrow:before {content: \"▸\";float: left;margin-right: 0.25em;color: #696969;}#sk-container-id-5 label.sk-toggleable__label-arrow:hover:before {color: black;}#sk-container-id-5 div.sk-estimator:hover label.sk-toggleable__label-arrow:before {color: black;}#sk-container-id-5 div.sk-toggleable__content {max-height: 0;max-width: 0;overflow: hidden;text-align: left;background-color: #f0f8ff;}#sk-container-id-5 div.sk-toggleable__content pre {margin: 0.2em;color: black;border-radius: 0.25em;background-color: #f0f8ff;}#sk-container-id-5 input.sk-toggleable__control:checked~div.sk-toggleable__content {max-height: 200px;max-width: 100%;overflow: auto;}#sk-container-id-5 input.sk-toggleable__control:checked~label.sk-toggleable__label-arrow:before {content: \"▾\";}#sk-container-id-5 div.sk-estimator input.sk-toggleable__control:checked~label.sk-toggleable__label {background-color: #d4ebff;}#sk-container-id-5 div.sk-label input.sk-toggleable__control:checked~label.sk-toggleable__label {background-color: #d4ebff;}#sk-container-id-5 input.sk-hidden--visually {border: 0;clip: rect(1px 1px 1px 1px);clip: rect(1px, 1px, 1px, 1px);height: 1px;margin: -1px;overflow: hidden;padding: 0;position: absolute;width: 1px;}#sk-container-id-5 div.sk-estimator {font-family: monospace;background-color: #f0f8ff;border: 1px dotted black;border-radius: 0.25em;box-sizing: border-box;margin-bottom: 0.5em;}#sk-container-id-5 div.sk-estimator:hover {background-color: #d4ebff;}#sk-container-id-5 div.sk-parallel-item::after {content: \"\";width: 100%;border-bottom: 1px solid gray;flex-grow: 1;}#sk-container-id-5 div.sk-label:hover label.sk-toggleable__label {background-color: #d4ebff;}#sk-container-id-5 div.sk-serial::before {content: \"\";position: absolute;border-left: 1px solid gray;box-sizing: border-box;top: 0;bottom: 0;left: 50%;z-index: 0;}#sk-container-id-5 div.sk-serial {display: flex;flex-direction: column;align-items: center;background-color: white;padding-right: 0.2em;padding-left: 0.2em;position: relative;}#sk-container-id-5 div.sk-item {position: relative;z-index: 1;}#sk-container-id-5 div.sk-parallel {display: flex;align-items: stretch;justify-content: center;background-color: white;position: relative;}#sk-container-id-5 div.sk-item::before, #sk-container-id-5 div.sk-parallel-item::before {content: \"\";position: absolute;border-left: 1px solid gray;box-sizing: border-box;top: 0;bottom: 0;left: 50%;z-index: -1;}#sk-container-id-5 div.sk-parallel-item {display: flex;flex-direction: column;z-index: 1;position: relative;background-color: white;}#sk-container-id-5 div.sk-parallel-item:first-child::after {align-self: flex-end;width: 50%;}#sk-container-id-5 div.sk-parallel-item:last-child::after {align-self: flex-start;width: 50%;}#sk-container-id-5 div.sk-parallel-item:only-child::after {width: 0;}#sk-container-id-5 div.sk-dashed-wrapped {border: 1px dashed gray;margin: 0 0.4em 0.5em 0.4em;box-sizing: border-box;padding-bottom: 0.4em;background-color: white;}#sk-container-id-5 div.sk-label label {font-family: monospace;font-weight: bold;display: inline-block;line-height: 1.2em;}#sk-container-id-5 div.sk-label-container {text-align: center;}#sk-container-id-5 div.sk-container {/* jupyter's `normalize.less` sets `[hidden] { display: none; }` but bootstrap.min.css set `[hidden] { display: none !important; }` so we also need the `!important` here to be able to override the default hidden behavior on the sphinx rendered scikit-learn.org. See: https://github.com/scikit-learn/scikit-learn/issues/21755 */display: inline-block !important;position: relative;}#sk-container-id-5 div.sk-text-repr-fallback {display: none;}</style><div id=\"sk-container-id-5\" class=\"sk-top-container\"><div class=\"sk-text-repr-fallback\"><pre>GradientBoostingRegressor()</pre><b>In a Jupyter environment, please rerun this cell to show the HTML representation or trust the notebook. <br />On GitHub, the HTML representation is unable to render, please try loading this page with nbviewer.org.</b></div><div class=\"sk-container\" hidden><div class=\"sk-item\"><div class=\"sk-estimator sk-toggleable\"><input class=\"sk-toggleable__control sk-hidden--visually\" id=\"sk-estimator-id-5\" type=\"checkbox\" checked><label for=\"sk-estimator-id-5\" class=\"sk-toggleable__label sk-toggleable__label-arrow\">GradientBoostingRegressor</label><div class=\"sk-toggleable__content\"><pre>GradientBoostingRegressor()</pre></div></div></div></div></div>"
      ],
      "text/plain": [
       "GradientBoostingRegressor()"
      ]
     },
     "execution_count": 51,
     "metadata": {},
     "output_type": "execute_result"
    }
   ],
   "source": [
    "from sklearn.ensemble import GradientBoostingRegressor\n",
    "GBR_model = GradientBoostingRegressor()\n",
    "GBR_df = GBR_model.fit(x_train,y_train)\n",
    "GBR_df"
   ]
  },
  {
   "cell_type": "code",
   "execution_count": 52,
   "id": "68550f06",
   "metadata": {},
   "outputs": [
    {
     "data": {
      "text/html": [
       "<div>\n",
       "<style scoped>\n",
       "    .dataframe tbody tr th:only-of-type {\n",
       "        vertical-align: middle;\n",
       "    }\n",
       "\n",
       "    .dataframe tbody tr th {\n",
       "        vertical-align: top;\n",
       "    }\n",
       "\n",
       "    .dataframe thead th {\n",
       "        text-align: right;\n",
       "    }\n",
       "</style>\n",
       "<table border=\"1\" class=\"dataframe\">\n",
       "  <thead>\n",
       "    <tr style=\"text-align: right;\">\n",
       "      <th></th>\n",
       "      <th>Actual</th>\n",
       "      <th>Predicted</th>\n",
       "    </tr>\n",
       "  </thead>\n",
       "  <tbody>\n",
       "    <tr>\n",
       "      <th>0</th>\n",
       "      <td>103282.38</td>\n",
       "      <td>101417.605679</td>\n",
       "    </tr>\n",
       "    <tr>\n",
       "      <th>1</th>\n",
       "      <td>144259.40</td>\n",
       "      <td>132908.434128</td>\n",
       "    </tr>\n",
       "    <tr>\n",
       "      <th>2</th>\n",
       "      <td>146121.95</td>\n",
       "      <td>133882.693832</td>\n",
       "    </tr>\n",
       "    <tr>\n",
       "      <th>3</th>\n",
       "      <td>77798.83</td>\n",
       "      <td>82100.180043</td>\n",
       "    </tr>\n",
       "    <tr>\n",
       "      <th>4</th>\n",
       "      <td>191050.39</td>\n",
       "      <td>182248.279508</td>\n",
       "    </tr>\n",
       "    <tr>\n",
       "      <th>5</th>\n",
       "      <td>105008.31</td>\n",
       "      <td>113293.801655</td>\n",
       "    </tr>\n",
       "    <tr>\n",
       "      <th>6</th>\n",
       "      <td>81229.06</td>\n",
       "      <td>58725.089325</td>\n",
       "    </tr>\n",
       "    <tr>\n",
       "      <th>7</th>\n",
       "      <td>97483.56</td>\n",
       "      <td>97321.439060</td>\n",
       "    </tr>\n",
       "    <tr>\n",
       "      <th>8</th>\n",
       "      <td>110352.25</td>\n",
       "      <td>111735.677525</td>\n",
       "    </tr>\n",
       "    <tr>\n",
       "      <th>9</th>\n",
       "      <td>166187.94</td>\n",
       "      <td>172389.401422</td>\n",
       "    </tr>\n",
       "  </tbody>\n",
       "</table>\n",
       "</div>"
      ],
      "text/plain": [
       "      Actual      Predicted\n",
       "0  103282.38  101417.605679\n",
       "1  144259.40  132908.434128\n",
       "2  146121.95  133882.693832\n",
       "3   77798.83   82100.180043\n",
       "4  191050.39  182248.279508\n",
       "5  105008.31  113293.801655\n",
       "6   81229.06   58725.089325\n",
       "7   97483.56   97321.439060\n",
       "8  110352.25  111735.677525\n",
       "9  166187.94  172389.401422"
      ]
     },
     "execution_count": 52,
     "metadata": {},
     "output_type": "execute_result"
    }
   ],
   "source": [
    "GBR_pred=GBR_model.predict(x_test)\n",
    "GBR_df = pd.DataFrame({'Actual': y_test, 'Predicted':GBR_pred})  \n",
    "GBR_df "
   ]
  },
  {
   "cell_type": "code",
   "execution_count": 53,
   "id": "21e8d4a1",
   "metadata": {},
   "outputs": [
    {
     "data": {
      "image/png": "[encoded data removed]",
      "text/plain": [
       "<Figure size 640x480 with 1 Axes>"
      ]
     },
     "metadata": {},
     "output_type": "display_data"
    }
   ],
   "source": [
    "# Visualization of Actual vs Predicted\n",
    "plt.plot(GBR_pred, label='Predicted')\n",
    "plt.plot(y_test,label='Actual')\n",
    "plt.legend(loc=\"upper left\")\n",
    "plt.show()"
   ]
  },
  {
   "cell_type": "markdown",
   "id": "3b8b92e9",
   "metadata": {},
   "source": [
    "# Evaluation Metrics\n"
   ]
  },
  {
   "cell_type": "code",
   "execution_count": 54,
   "id": "a706def6",
   "metadata": {},
   "outputs": [
    {
     "data": {
      "text/plain": [
       "9967.829799631776"
      ]
     },
     "execution_count": 54,
     "metadata": {},
     "output_type": "execute_result"
    }
   ],
   "source": [
    "math.sqrt(mean_squared_error(y_test,GBR_pred))"
   ]
  },
  {
   "cell_type": "code",
   "execution_count": 55,
   "id": "4ee0beaa",
   "metadata": {},
   "outputs": [
    {
     "name": "stdout",
     "output_type": "stream",
     "text": [
      "Mean Absolute Error: 7709.492911402328\n"
     ]
    }
   ],
   "source": [
    "print('Mean Absolute Error:', metrics.mean_absolute_error(GBR_pred,y_test)) "
   ]
  },
  {
   "cell_type": "code",
   "execution_count": 56,
   "id": "6a8f47fc",
   "metadata": {},
   "outputs": [
    {
     "data": {
      "text/plain": [
       "0.92"
      ]
     },
     "execution_count": 56,
     "metadata": {},
     "output_type": "execute_result"
    }
   ],
   "source": [
    "#This is the value of R^2\n",
    "np.round(metrics.r2_score(GBR_pred, y_test),2)"
   ]
  },
  {
   "cell_type": "code",
   "execution_count": 57,
   "id": "15dc9d02",
   "metadata": {},
   "outputs": [
    {
     "name": "stdout",
     "output_type": "stream",
     "text": [
      "Model Performance\n",
      "Average Error: 7709.4929 degrees.\n",
      "Accuracy = 93.11%.\n"
     ]
    }
   ],
   "source": [
    "Accuracy_GBR_model = evaluate(GBR_model,x_test,y_test,GBR_pred)\n",
    "Accuracy.append(Accuracy_GBR_model)"
   ]
  },
  {
   "cell_type": "markdown",
   "id": "79145f5f",
   "metadata": {},
   "source": [
    "# Best Model Selection"
   ]
  },
  {
   "cell_type": "code",
   "execution_count": 58,
   "id": "a9212e40",
   "metadata": {},
   "outputs": [],
   "source": [
    "Models =['lin_model','PLS_model','tree_model','mlp_model','GBR_model']"
   ]
  },
  {
   "cell_type": "code",
   "execution_count": 59,
   "id": "57052a73",
   "metadata": {},
   "outputs": [],
   "source": [
    "Acc_df = pd.DataFrame({\"Models\": Models,\n",
    "                   \"Accuracy\": Accuracy})"
   ]
  },
  {
   "cell_type": "code",
   "execution_count": 60,
   "id": "baee3a82",
   "metadata": {},
   "outputs": [
    {
     "data": {
      "text/html": [
       "<div>\n",
       "<style scoped>\n",
       "    .dataframe tbody tr th:only-of-type {\n",
       "        vertical-align: middle;\n",
       "    }\n",
       "\n",
       "    .dataframe tbody tr th {\n",
       "        vertical-align: top;\n",
       "    }\n",
       "\n",
       "    .dataframe thead th {\n",
       "        text-align: right;\n",
       "    }\n",
       "</style>\n",
       "<table border=\"1\" class=\"dataframe\">\n",
       "  <thead>\n",
       "    <tr style=\"text-align: right;\">\n",
       "      <th></th>\n",
       "      <th>Models</th>\n",
       "      <th>Accuracy</th>\n",
       "    </tr>\n",
       "  </thead>\n",
       "  <tbody>\n",
       "    <tr>\n",
       "      <th>0</th>\n",
       "      <td>lin_model</td>\n",
       "      <td>93.711792</td>\n",
       "    </tr>\n",
       "    <tr>\n",
       "      <th>1</th>\n",
       "      <td>PLS_model</td>\n",
       "      <td>93.441141</td>\n",
       "    </tr>\n",
       "    <tr>\n",
       "      <th>2</th>\n",
       "      <td>tree_model</td>\n",
       "      <td>95.843627</td>\n",
       "    </tr>\n",
       "    <tr>\n",
       "      <th>3</th>\n",
       "      <td>mlp_model</td>\n",
       "      <td>84.486000</td>\n",
       "    </tr>\n",
       "    <tr>\n",
       "      <th>4</th>\n",
       "      <td>GBR_model</td>\n",
       "      <td>93.106776</td>\n",
       "    </tr>\n",
       "  </tbody>\n",
       "</table>\n",
       "</div>"
      ],
      "text/plain": [
       "       Models   Accuracy\n",
       "0   lin_model  93.711792\n",
       "1   PLS_model  93.441141\n",
       "2  tree_model  95.843627\n",
       "3   mlp_model  84.486000\n",
       "4   GBR_model  93.106776"
      ]
     },
     "execution_count": 60,
     "metadata": {},
     "output_type": "execute_result"
    }
   ],
   "source": [
    "Acc_df"
   ]
  },
  {
   "cell_type": "code",
   "execution_count": 61,
   "id": "cced82e4",
   "metadata": {},
   "outputs": [
    {
     "data": {
      "text/plain": [
       "<Axes: xlabel='Models', ylabel='Accuracy'>"
      ]
     },
     "execution_count": 61,
     "metadata": {},
     "output_type": "execute_result"
    },
    {
     "data": {
      "image/png": "[encoded data removed]",
      "text/plain": [
       "<Figure size 640x480 with 1 Axes>"
      ]
     },
     "metadata": {},
     "output_type": "display_data"
    }
   ],
   "source": [
    "sns.barplot(x='Models',y=\"Accuracy\", data=Acc_df,order=Acc_df.sort_values('Accuracy',ascending = False).Models)"
   ]
  },
  {
   "cell_type": "markdown",
   "id": "fa5eae08",
   "metadata": {},
   "source": [
    "#  Improve Version of the Model No.3"
   ]
  },
  {
   "cell_type": "markdown",
   "id": "53287965",
   "metadata": {},
   "source": [
    "# Previous Model and Accuracy"
   ]
  },
  {
   "cell_type": "code",
   "execution_count": 62,
   "id": "95a0fe42",
   "metadata": {},
   "outputs": [
    {
     "data": {
      "text/html": [
       "<style>#sk-container-id-6 {color: black;background-color: white;}#sk-container-id-6 pre{padding: 0;}#sk-container-id-6 div.sk-toggleable {background-color: white;}#sk-container-id-6 label.sk-toggleable__label {cursor: pointer;display: block;width: 100%;margin-bottom: 0;padding: 0.3em;box-sizing: border-box;text-align: center;}#sk-container-id-6 label.sk-toggleable__label-arrow:before {content: \"▸\";float: left;margin-right: 0.25em;color: #696969;}#sk-container-id-6 label.sk-toggleable__label-arrow:hover:before {color: black;}#sk-container-id-6 div.sk-estimator:hover label.sk-toggleable__label-arrow:before {color: black;}#sk-container-id-6 div.sk-toggleable__content {max-height: 0;max-width: 0;overflow: hidden;text-align: left;background-color: #f0f8ff;}#sk-container-id-6 div.sk-toggleable__content pre {margin: 0.2em;color: black;border-radius: 0.25em;background-color: #f0f8ff;}#sk-container-id-6 input.sk-toggleable__control:checked~div.sk-toggleable__content {max-height: 200px;max-width: 100%;overflow: auto;}#sk-container-id-6 input.sk-toggleable__control:checked~label.sk-toggleable__label-arrow:before {content: \"▾\";}#sk-container-id-6 div.sk-estimator input.sk-toggleable__control:checked~label.sk-toggleable__label {background-color: #d4ebff;}#sk-container-id-6 div.sk-label input.sk-toggleable__control:checked~label.sk-toggleable__label {background-color: #d4ebff;}#sk-container-id-6 input.sk-hidden--visually {border: 0;clip: rect(1px 1px 1px 1px);clip: rect(1px, 1px, 1px, 1px);height: 1px;margin: -1px;overflow: hidden;padding: 0;position: absolute;width: 1px;}#sk-container-id-6 div.sk-estimator {font-family: monospace;background-color: #f0f8ff;border: 1px dotted black;border-radius: 0.25em;box-sizing: border-box;margin-bottom: 0.5em;}#sk-container-id-6 div.sk-estimator:hover {background-color: #d4ebff;}#sk-container-id-6 div.sk-parallel-item::after {content: \"\";width: 100%;border-bottom: 1px solid gray;flex-grow: 1;}#sk-container-id-6 div.sk-label:hover label.sk-toggleable__label {background-color: #d4ebff;}#sk-container-id-6 div.sk-serial::before {content: \"\";position: absolute;border-left: 1px solid gray;box-sizing: border-box;top: 0;bottom: 0;left: 50%;z-index: 0;}#sk-container-id-6 div.sk-serial {display: flex;flex-direction: column;align-items: center;background-color: white;padding-right: 0.2em;padding-left: 0.2em;position: relative;}#sk-container-id-6 div.sk-item {position: relative;z-index: 1;}#sk-container-id-6 div.sk-parallel {display: flex;align-items: stretch;justify-content: center;background-color: white;position: relative;}#sk-container-id-6 div.sk-item::before, #sk-container-id-6 div.sk-parallel-item::before {content: \"\";position: absolute;border-left: 1px solid gray;box-sizing: border-box;top: 0;bottom: 0;left: 50%;z-index: -1;}#sk-container-id-6 div.sk-parallel-item {display: flex;flex-direction: column;z-index: 1;position: relative;background-color: white;}#sk-container-id-6 div.sk-parallel-item:first-child::after {align-self: flex-end;width: 50%;}#sk-container-id-6 div.sk-parallel-item:last-child::after {align-self: flex-start;width: 50%;}#sk-container-id-6 div.sk-parallel-item:only-child::after {width: 0;}#sk-container-id-6 div.sk-dashed-wrapped {border: 1px dashed gray;margin: 0 0.4em 0.5em 0.4em;box-sizing: border-box;padding-bottom: 0.4em;background-color: white;}#sk-container-id-6 div.sk-label label {font-family: monospace;font-weight: bold;display: inline-block;line-height: 1.2em;}#sk-container-id-6 div.sk-label-container {text-align: center;}#sk-container-id-6 div.sk-container {/* jupyter's `normalize.less` sets `[hidden] { display: none; }` but bootstrap.min.css set `[hidden] { display: none !important; }` so we also need the `!important` here to be able to override the default hidden behavior on the sphinx rendered scikit-learn.org. See: https://github.com/scikit-learn/scikit-learn/issues/21755 */display: inline-block !important;position: relative;}#sk-container-id-6 div.sk-text-repr-fallback {display: none;}</style><div id=\"sk-container-id-6\" class=\"sk-top-container\"><div class=\"sk-text-repr-fallback\"><pre>DecisionTreeRegressor()</pre><b>In a Jupyter environment, please rerun this cell to show the HTML representation or trust the notebook. <br />On GitHub, the HTML representation is unable to render, please try loading this page with nbviewer.org.</b></div><div class=\"sk-container\" hidden><div class=\"sk-item\"><div class=\"sk-estimator sk-toggleable\"><input class=\"sk-toggleable__control sk-hidden--visually\" id=\"sk-estimator-id-6\" type=\"checkbox\" checked><label for=\"sk-estimator-id-6\" class=\"sk-toggleable__label sk-toggleable__label-arrow\">DecisionTreeRegressor</label><div class=\"sk-toggleable__content\"><pre>DecisionTreeRegressor()</pre></div></div></div></div></div>"
      ],
      "text/plain": [
       "DecisionTreeRegressor()"
      ]
     },
     "execution_count": 62,
     "metadata": {},
     "output_type": "execute_result"
    }
   ],
   "source": [
    "tree_model = tree.DecisionTreeRegressor()\n",
    "tree_model_df = tree_model.fit(x_train,y_train)\n",
    "tree_model_df"
   ]
  },
  {
   "cell_type": "markdown",
   "id": "1f07d173",
   "metadata": {},
   "source": [
    "# Evaluation Metrics\n"
   ]
  },
  {
   "cell_type": "code",
   "execution_count": 63,
   "id": "fca34032",
   "metadata": {},
   "outputs": [
    {
     "data": {
      "text/plain": [
       "7043.245594834814"
      ]
     },
     "execution_count": 63,
     "metadata": {},
     "output_type": "execute_result"
    }
   ],
   "source": [
    "math.sqrt(mean_squared_error(y_test,tree_model_pred))"
   ]
  },
  {
   "cell_type": "code",
   "execution_count": 64,
   "id": "12bc61f7",
   "metadata": {},
   "outputs": [
    {
     "data": {
      "text/plain": [
       "0.96"
      ]
     },
     "execution_count": 64,
     "metadata": {},
     "output_type": "execute_result"
    }
   ],
   "source": [
    "#This is the value of R^2\n",
    "np.round(metrics.r2_score(tree_model_pred, y_test),2)"
   ]
  },
  {
   "cell_type": "code",
   "execution_count": 65,
   "id": "063d801f",
   "metadata": {},
   "outputs": [
    {
     "name": "stdout",
     "output_type": "stream",
     "text": [
      "Model Performance\n",
      "Average Error: 5232.0120 degrees.\n",
      "Accuracy = 95.84%.\n"
     ]
    }
   ],
   "source": [
    "Base_Accuracy = evaluate(tree_model,x_test,y_test,tree_model_pred)"
   ]
  },
  {
   "cell_type": "code",
   "execution_count": 66,
   "id": "8a8bace4",
   "metadata": {},
   "outputs": [],
   "source": [
    "Model_Accuracy=[]\n",
    "Model_Accuracy.append(Base_Accuracy)"
   ]
  },
  {
   "cell_type": "markdown",
   "id": "db6660f9",
   "metadata": {},
   "source": [
    "# Hyperparameter tuning "
   ]
  },
  {
   "cell_type": "markdown",
   "id": "b30c7917",
   "metadata": {},
   "source": [
    " "
   ]
  },
  {
   "cell_type": "markdown",
   "id": "4d336a0e",
   "metadata": {},
   "source": [
    "### RandomizedSearchCV "
   ]
  },
  {
   "cell_type": "code",
   "execution_count": 67,
   "id": "eddd7a01",
   "metadata": {},
   "outputs": [
    {
     "name": "stdout",
     "output_type": "stream",
     "text": [
      "Parameters currently in use:\n",
      "\n",
      "{'ccp_alpha': 0.0,\n",
      " 'criterion': 'squared_error',\n",
      " 'max_depth': None,\n",
      " 'max_features': None,\n",
      " 'max_leaf_nodes': None,\n",
      " 'min_impurity_decrease': 0.0,\n",
      " 'min_samples_leaf': 1,\n",
      " 'min_samples_split': 2,\n",
      " 'min_weight_fraction_leaf': 0.0,\n",
      " 'random_state': None,\n",
      " 'splitter': 'best'}\n"
     ]
    }
   ],
   "source": [
    "from sklearn.model_selection import RandomizedSearchCV\n",
    "from pprint import pprint\n",
    "# Looking at parameters using current forest\n",
    "print('Parameters currently in use:\\n')\n",
    "pprint(tree_model.get_params())\n"
   ]
  },
  {
   "cell_type": "code",
   "execution_count": 68,
   "id": "3e053b5f",
   "metadata": {},
   "outputs": [
    {
     "name": "stdout",
     "output_type": "stream",
     "text": [
      "{'max_depth': [10, 20, 30, 40, 50, 60, 70, 80, 90, 100, 110, None],\n",
      " 'min_samples_leaf': [1, 2, 4],\n",
      " 'min_samples_split': [2, 5],\n",
      " 'random_state': [0,\n",
      "                  1,\n",
      "                  2,\n",
      "                  3,\n",
      "                  4,\n",
      "                  5,\n",
      "                  6,\n",
      "                  7,\n",
      "                  8,\n",
      "                  9,\n",
      "                  10,\n",
      "                  11,\n",
      "                  12,\n",
      "                  13,\n",
      "                  14,\n",
      "                  15,\n",
      "                  16,\n",
      "                  17,\n",
      "                  18,\n",
      "                  19,\n",
      "                  20,\n",
      "                  21,\n",
      "                  22,\n",
      "                  23,\n",
      "                  24,\n",
      "                  25,\n",
      "                  26,\n",
      "                  27,\n",
      "                  28,\n",
      "                  29,\n",
      "                  30,\n",
      "                  31,\n",
      "                  32,\n",
      "                  33,\n",
      "                  34,\n",
      "                  35,\n",
      "                  36,\n",
      "                  37,\n",
      "                  38,\n",
      "                  39,\n",
      "                  40,\n",
      "                  41,\n",
      "                  42,\n",
      "                  43,\n",
      "                  44,\n",
      "                  45,\n",
      "                  46,\n",
      "                  47,\n",
      "                  48,\n",
      "                  49,\n",
      "                  50,\n",
      "                  51,\n",
      "                  52,\n",
      "                  53,\n",
      "                  54,\n",
      "                  55,\n",
      "                  56,\n",
      "                  57,\n",
      "                  58,\n",
      "                  59,\n",
      "                  60,\n",
      "                  61,\n",
      "                  62,\n",
      "                  63,\n",
      "                  64,\n",
      "                  65,\n",
      "                  66,\n",
      "                  67,\n",
      "                  68,\n",
      "                  69,\n",
      "                  70,\n",
      "                  71,\n",
      "                  72,\n",
      "                  73,\n",
      "                  74,\n",
      "                  75,\n",
      "                  76,\n",
      "                  77,\n",
      "                  78,\n",
      "                  79,\n",
      "                  80,\n",
      "                  81,\n",
      "                  82,\n",
      "                  83,\n",
      "                  84,\n",
      "                  85,\n",
      "                  86,\n",
      "                  87,\n",
      "                  88,\n",
      "                  89,\n",
      "                  90,\n",
      "                  91,\n",
      "                  92,\n",
      "                  93,\n",
      "                  94,\n",
      "                  95,\n",
      "                  96,\n",
      "                  97,\n",
      "                  98,\n",
      "                  99,\n",
      "                  100,\n",
      "                  101,\n",
      "                  102,\n",
      "                  103,\n",
      "                  104,\n",
      "                  105,\n",
      "                  106,\n",
      "                  107,\n",
      "                  108,\n",
      "                  109,\n",
      "                  110,\n",
      "                  111,\n",
      "                  112,\n",
      "                  113,\n",
      "                  114,\n",
      "                  115,\n",
      "                  116,\n",
      "                  117,\n",
      "                  118,\n",
      "                  119,\n",
      "                  120,\n",
      "                  121,\n",
      "                  122,\n",
      "                  123,\n",
      "                  124,\n",
      "                  125,\n",
      "                  126,\n",
      "                  127,\n",
      "                  128,\n",
      "                  129,\n",
      "                  130,\n",
      "                  131,\n",
      "                  132,\n",
      "                  133,\n",
      "                  134,\n",
      "                  135,\n",
      "                  136,\n",
      "                  137,\n",
      "                  138,\n",
      "                  139,\n",
      "                  140,\n",
      "                  141,\n",
      "                  142,\n",
      "                  143,\n",
      "                  144,\n",
      "                  145,\n",
      "                  146,\n",
      "                  147,\n",
      "                  148,\n",
      "                  149,\n",
      "                  150,\n",
      "                  151,\n",
      "                  152,\n",
      "                  153,\n",
      "                  154,\n",
      "                  155,\n",
      "                  156,\n",
      "                  157,\n",
      "                  158,\n",
      "                  159,\n",
      "                  160,\n",
      "                  161,\n",
      "                  162,\n",
      "                  163,\n",
      "                  164,\n",
      "                  165,\n",
      "                  166,\n",
      "                  167,\n",
      "                  168,\n",
      "                  169,\n",
      "                  170,\n",
      "                  171,\n",
      "                  172,\n",
      "                  173,\n",
      "                  174,\n",
      "                  175,\n",
      "                  176,\n",
      "                  177,\n",
      "                  178,\n",
      "                  179,\n",
      "                  180,\n",
      "                  181,\n",
      "                  182,\n",
      "                  183,\n",
      "                  184,\n",
      "                  185,\n",
      "                  186,\n",
      "                  187,\n",
      "                  188,\n",
      "                  189,\n",
      "                  190,\n",
      "                  191,\n",
      "                  192,\n",
      "                  193,\n",
      "                  194,\n",
      "                  195,\n",
      "                  196,\n",
      "                  197,\n",
      "                  198,\n",
      "                  199,\n",
      "                  200,\n",
      "                  201,\n",
      "                  202,\n",
      "                  203,\n",
      "                  204,\n",
      "                  205,\n",
      "                  206,\n",
      "                  207,\n",
      "                  208,\n",
      "                  209,\n",
      "                  210,\n",
      "                  211,\n",
      "                  212,\n",
      "                  213,\n",
      "                  214,\n",
      "                  215,\n",
      "                  216,\n",
      "                  217,\n",
      "                  218,\n",
      "                  219,\n",
      "                  220,\n",
      "                  221,\n",
      "                  222,\n",
      "                  223,\n",
      "                  224,\n",
      "                  225,\n",
      "                  226,\n",
      "                  227,\n",
      "                  228,\n",
      "                  229,\n",
      "                  230,\n",
      "                  231,\n",
      "                  232,\n",
      "                  233,\n",
      "                  234,\n",
      "                  235,\n",
      "                  236,\n",
      "                  237,\n",
      "                  238,\n",
      "                  239,\n",
      "                  240,\n",
      "                  241,\n",
      "                  242,\n",
      "                  243,\n",
      "                  244,\n",
      "                  245,\n",
      "                  246,\n",
      "                  247,\n",
      "                  248,\n",
      "                  249,\n",
      "                  250,\n",
      "                  251,\n",
      "                  252,\n",
      "                  253,\n",
      "                  254,\n",
      "                  255,\n",
      "                  256,\n",
      "                  257,\n",
      "                  258,\n",
      "                  259,\n",
      "                  260,\n",
      "                  261,\n",
      "                  262,\n",
      "                  263,\n",
      "                  264,\n",
      "                  265,\n",
      "                  266,\n",
      "                  267,\n",
      "                  268,\n",
      "                  269,\n",
      "                  270,\n",
      "                  271,\n",
      "                  272,\n",
      "                  273,\n",
      "                  274,\n",
      "                  275,\n",
      "                  276,\n",
      "                  277,\n",
      "                  278,\n",
      "                  279,\n",
      "                  280,\n",
      "                  281,\n",
      "                  282,\n",
      "                  283,\n",
      "                  284,\n",
      "                  285,\n",
      "                  286,\n",
      "                  287,\n",
      "                  288,\n",
      "                  289,\n",
      "                  290,\n",
      "                  291,\n",
      "                  292,\n",
      "                  293,\n",
      "                  294,\n",
      "                  295,\n",
      "                  296,\n",
      "                  297,\n",
      "                  298,\n",
      "                  299,\n",
      "                  300,\n",
      "                  301,\n",
      "                  302,\n",
      "                  303,\n",
      "                  304,\n",
      "                  305,\n",
      "                  306,\n",
      "                  307,\n",
      "                  308,\n",
      "                  309,\n",
      "                  310,\n",
      "                  311,\n",
      "                  312,\n",
      "                  313,\n",
      "                  314,\n",
      "                  315,\n",
      "                  316,\n",
      "                  317,\n",
      "                  318,\n",
      "                  319,\n",
      "                  320,\n",
      "                  321,\n",
      "                  322,\n",
      "                  323,\n",
      "                  324,\n",
      "                  325,\n",
      "                  326,\n",
      "                  327,\n",
      "                  328,\n",
      "                  329,\n",
      "                  330,\n",
      "                  331,\n",
      "                  332,\n",
      "                  333,\n",
      "                  334,\n",
      "                  335,\n",
      "                  336,\n",
      "                  337,\n",
      "                  338,\n",
      "                  339,\n",
      "                  340,\n",
      "                  341,\n",
      "                  342,\n",
      "                  343,\n",
      "                  344,\n",
      "                  345,\n",
      "                  346,\n",
      "                  347,\n",
      "                  348,\n",
      "                  349,\n",
      "                  350,\n",
      "                  351,\n",
      "                  352,\n",
      "                  353,\n",
      "                  354,\n",
      "                  355,\n",
      "                  356,\n",
      "                  357,\n",
      "                  358,\n",
      "                  359,\n",
      "                  360,\n",
      "                  361,\n",
      "                  362,\n",
      "                  363,\n",
      "                  364,\n",
      "                  365,\n",
      "                  366,\n",
      "                  367,\n",
      "                  368,\n",
      "                  369,\n",
      "                  370,\n",
      "                  371,\n",
      "                  372,\n",
      "                  373,\n",
      "                  374,\n",
      "                  375,\n",
      "                  376,\n",
      "                  377,\n",
      "                  378,\n",
      "                  379,\n",
      "                  380,\n",
      "                  381,\n",
      "                  382,\n",
      "                  383,\n",
      "                  384,\n",
      "                  385,\n",
      "                  386,\n",
      "                  387,\n",
      "                  388,\n",
      "                  389,\n",
      "                  390,\n",
      "                  391,\n",
      "                  392,\n",
      "                  393,\n",
      "                  394,\n",
      "                  395,\n",
      "                  396,\n",
      "                  397,\n",
      "                  398,\n",
      "                  399,\n",
      "                  400,\n",
      "                  401,\n",
      "                  402,\n",
      "                  403,\n",
      "                  404,\n",
      "                  405,\n",
      "                  406,\n",
      "                  407,\n",
      "                  408,\n",
      "                  409,\n",
      "                  410,\n",
      "                  411,\n",
      "                  412,\n",
      "                  413,\n",
      "                  414,\n",
      "                  415,\n",
      "                  416,\n",
      "                  417,\n",
      "                  418,\n",
      "                  419,\n",
      "                  420,\n",
      "                  421,\n",
      "                  422,\n",
      "                  423,\n",
      "                  424,\n",
      "                  425,\n",
      "                  426,\n",
      "                  427,\n",
      "                  428,\n",
      "                  429,\n",
      "                  430,\n",
      "                  431,\n",
      "                  432,\n",
      "                  433,\n",
      "                  434,\n",
      "                  435,\n",
      "                  436,\n",
      "                  437,\n",
      "                  438,\n",
      "                  439,\n",
      "                  440,\n",
      "                  441,\n",
      "                  442,\n",
      "                  443,\n",
      "                  444,\n",
      "                  445,\n",
      "                  446,\n",
      "                  447,\n",
      "                  448,\n",
      "                  449,\n",
      "                  450,\n",
      "                  451,\n",
      "                  452,\n",
      "                  453,\n",
      "                  454,\n",
      "                  455,\n",
      "                  456,\n",
      "                  457,\n",
      "                  458,\n",
      "                  459,\n",
      "                  460,\n",
      "                  461,\n",
      "                  462,\n",
      "                  463,\n",
      "                  464,\n",
      "                  465,\n",
      "                  466,\n",
      "                  467,\n",
      "                  468,\n",
      "                  469,\n",
      "                  470,\n",
      "                  471,\n",
      "                  472,\n",
      "                  473,\n",
      "                  474,\n",
      "                  475,\n",
      "                  476,\n",
      "                  477,\n",
      "                  478,\n",
      "                  479,\n",
      "                  480,\n",
      "                  481,\n",
      "                  482,\n",
      "                  483,\n",
      "                  484,\n",
      "                  485,\n",
      "                  486,\n",
      "                  487,\n",
      "                  488,\n",
      "                  489,\n",
      "                  490,\n",
      "                  491,\n",
      "                  492,\n",
      "                  493,\n",
      "                  494,\n",
      "                  495,\n",
      "                  496,\n",
      "                  497,\n",
      "                  498,\n",
      "                  499,\n",
      "                  500,\n",
      "                  501,\n",
      "                  502,\n",
      "                  503,\n",
      "                  504,\n",
      "                  505,\n",
      "                  506,\n",
      "                  507,\n",
      "                  508,\n",
      "                  509,\n",
      "                  510,\n",
      "                  511,\n",
      "                  512,\n",
      "                  513,\n",
      "                  514,\n",
      "                  515,\n",
      "                  516,\n",
      "                  517,\n",
      "                  518,\n",
      "                  519,\n",
      "                  520,\n",
      "                  521,\n",
      "                  522,\n",
      "                  523,\n",
      "                  524,\n",
      "                  525,\n",
      "                  526,\n",
      "                  527,\n",
      "                  528,\n",
      "                  529,\n",
      "                  530,\n",
      "                  531,\n",
      "                  532,\n",
      "                  533,\n",
      "                  534,\n",
      "                  535,\n",
      "                  536,\n",
      "                  537,\n",
      "                  538,\n",
      "                  539,\n",
      "                  540,\n",
      "                  541,\n",
      "                  542,\n",
      "                  543,\n",
      "                  544,\n",
      "                  545,\n",
      "                  546,\n",
      "                  547,\n",
      "                  548,\n",
      "                  549,\n",
      "                  550,\n",
      "                  551,\n",
      "                  552,\n",
      "                  553,\n",
      "                  554,\n",
      "                  555,\n",
      "                  556,\n",
      "                  557,\n",
      "                  558,\n",
      "                  559,\n",
      "                  560,\n",
      "                  561,\n",
      "                  562,\n",
      "                  563,\n",
      "                  564,\n",
      "                  565,\n",
      "                  566,\n",
      "                  567,\n",
      "                  568,\n",
      "                  569,\n",
      "                  570,\n",
      "                  571,\n",
      "                  572,\n",
      "                  573,\n",
      "                  574,\n",
      "                  575,\n",
      "                  576,\n",
      "                  577,\n",
      "                  578,\n",
      "                  579,\n",
      "                  580,\n",
      "                  581,\n",
      "                  582,\n",
      "                  583,\n",
      "                  584,\n",
      "                  585,\n",
      "                  586,\n",
      "                  587,\n",
      "                  588,\n",
      "                  589,\n",
      "                  590,\n",
      "                  591,\n",
      "                  592,\n",
      "                  593,\n",
      "                  594,\n",
      "                  595,\n",
      "                  596,\n",
      "                  597,\n",
      "                  598,\n",
      "                  599,\n",
      "                  600,\n",
      "                  601,\n",
      "                  602,\n",
      "                  603,\n",
      "                  604,\n",
      "                  605,\n",
      "                  606,\n",
      "                  607,\n",
      "                  608,\n",
      "                  609,\n",
      "                  610,\n",
      "                  611,\n",
      "                  612,\n",
      "                  613,\n",
      "                  614,\n",
      "                  615,\n",
      "                  616,\n",
      "                  617,\n",
      "                  618,\n",
      "                  619,\n",
      "                  620,\n",
      "                  621,\n",
      "                  622,\n",
      "                  623,\n",
      "                  624,\n",
      "                  625,\n",
      "                  626,\n",
      "                  627,\n",
      "                  628,\n",
      "                  629,\n",
      "                  630,\n",
      "                  631,\n",
      "                  632,\n",
      "                  633,\n",
      "                  634,\n",
      "                  635,\n",
      "                  636,\n",
      "                  637,\n",
      "                  638,\n",
      "                  639,\n",
      "                  640,\n",
      "                  641,\n",
      "                  642,\n",
      "                  643,\n",
      "                  644,\n",
      "                  645,\n",
      "                  646,\n",
      "                  647,\n",
      "                  648,\n",
      "                  649,\n",
      "                  650,\n",
      "                  651,\n",
      "                  652,\n",
      "                  653,\n",
      "                  654,\n",
      "                  655,\n",
      "                  656,\n",
      "                  657,\n",
      "                  658,\n",
      "                  659,\n",
      "                  660,\n",
      "                  661,\n",
      "                  662,\n",
      "                  663,\n",
      "                  664,\n",
      "                  665,\n",
      "                  666,\n",
      "                  667,\n",
      "                  668,\n",
      "                  669,\n",
      "                  670,\n",
      "                  671,\n",
      "                  672,\n",
      "                  673,\n",
      "                  674,\n",
      "                  675,\n",
      "                  676,\n",
      "                  677,\n",
      "                  678,\n",
      "                  679,\n",
      "                  680,\n",
      "                  681,\n",
      "                  682,\n",
      "                  683,\n",
      "                  684,\n",
      "                  685,\n",
      "                  686,\n",
      "                  687,\n",
      "                  688,\n",
      "                  689,\n",
      "                  690,\n",
      "                  691,\n",
      "                  692,\n",
      "                  693,\n",
      "                  694,\n",
      "                  695,\n",
      "                  696,\n",
      "                  697,\n",
      "                  698,\n",
      "                  699,\n",
      "                  700,\n",
      "                  701,\n",
      "                  702,\n",
      "                  703,\n",
      "                  704,\n",
      "                  705,\n",
      "                  706,\n",
      "                  707,\n",
      "                  708,\n",
      "                  709,\n",
      "                  710,\n",
      "                  711,\n",
      "                  712,\n",
      "                  713,\n",
      "                  714,\n",
      "                  715,\n",
      "                  716,\n",
      "                  717,\n",
      "                  718,\n",
      "                  719,\n",
      "                  720,\n",
      "                  721,\n",
      "                  722,\n",
      "                  723,\n",
      "                  724,\n",
      "                  725,\n",
      "                  726,\n",
      "                  727,\n",
      "                  728,\n",
      "                  729,\n",
      "                  730,\n",
      "                  731,\n",
      "                  732,\n",
      "                  733,\n",
      "                  734,\n",
      "                  735,\n",
      "                  736,\n",
      "                  737,\n",
      "                  738,\n",
      "                  739,\n",
      "                  740,\n",
      "                  741,\n",
      "                  742,\n",
      "                  743,\n",
      "                  744,\n",
      "                  745,\n",
      "                  746,\n",
      "                  747,\n",
      "                  748,\n",
      "                  749,\n",
      "                  750,\n",
      "                  751,\n",
      "                  752,\n",
      "                  753,\n",
      "                  754,\n",
      "                  755,\n",
      "                  756,\n",
      "                  757,\n",
      "                  758,\n",
      "                  759,\n",
      "                  760,\n",
      "                  761,\n",
      "                  762,\n",
      "                  763,\n",
      "                  764,\n",
      "                  765,\n",
      "                  766,\n",
      "                  767,\n",
      "                  768,\n",
      "                  769,\n",
      "                  770,\n",
      "                  771,\n",
      "                  772,\n",
      "                  773,\n",
      "                  774,\n",
      "                  775,\n",
      "                  776,\n",
      "                  777,\n",
      "                  778,\n",
      "                  779,\n",
      "                  780,\n",
      "                  781,\n",
      "                  782,\n",
      "                  783,\n",
      "                  784,\n",
      "                  785,\n",
      "                  786,\n",
      "                  787,\n",
      "                  788,\n",
      "                  789,\n",
      "                  790,\n",
      "                  791,\n",
      "                  792,\n",
      "                  793,\n",
      "                  794,\n",
      "                  795,\n",
      "                  796,\n",
      "                  797,\n",
      "                  798,\n",
      "                  799,\n",
      "                  800,\n",
      "                  801,\n",
      "                  802,\n",
      "                  803,\n",
      "                  804,\n",
      "                  805,\n",
      "                  806,\n",
      "                  807,\n",
      "                  808,\n",
      "                  809,\n",
      "                  810,\n",
      "                  811,\n",
      "                  812,\n",
      "                  813,\n",
      "                  814,\n",
      "                  815,\n",
      "                  816,\n",
      "                  817,\n",
      "                  818,\n",
      "                  819,\n",
      "                  820,\n",
      "                  821,\n",
      "                  822,\n",
      "                  823,\n",
      "                  824,\n",
      "                  825,\n",
      "                  826,\n",
      "                  827,\n",
      "                  828,\n",
      "                  829,\n",
      "                  830,\n",
      "                  831,\n",
      "                  832,\n",
      "                  833,\n",
      "                  834,\n",
      "                  835,\n",
      "                  836,\n",
      "                  837,\n",
      "                  838,\n",
      "                  839,\n",
      "                  840,\n",
      "                  841,\n",
      "                  842,\n",
      "                  843,\n",
      "                  844,\n",
      "                  845,\n",
      "                  846,\n",
      "                  847,\n",
      "                  848,\n",
      "                  849,\n",
      "                  850,\n",
      "                  851,\n",
      "                  852,\n",
      "                  853,\n",
      "                  854,\n",
      "                  855,\n",
      "                  856,\n",
      "                  857,\n",
      "                  858,\n",
      "                  859,\n",
      "                  860,\n",
      "                  861,\n",
      "                  862,\n",
      "                  863,\n",
      "                  864,\n",
      "                  865,\n",
      "                  866,\n",
      "                  867,\n",
      "                  868,\n",
      "                  869,\n",
      "                  870,\n",
      "                  871,\n",
      "                  872,\n",
      "                  873,\n",
      "                  874,\n",
      "                  875,\n",
      "                  876,\n",
      "                  877,\n",
      "                  878,\n",
      "                  879,\n",
      "                  880,\n",
      "                  881,\n",
      "                  882,\n",
      "                  883,\n",
      "                  884,\n",
      "                  885,\n",
      "                  886,\n",
      "                  887,\n",
      "                  888,\n",
      "                  889,\n",
      "                  890,\n",
      "                  891,\n",
      "                  892,\n",
      "                  893,\n",
      "                  894,\n",
      "                  895,\n",
      "                  896,\n",
      "                  897,\n",
      "                  898,\n",
      "                  899,\n",
      "                  900,\n",
      "                  901,\n",
      "                  902,\n",
      "                  903,\n",
      "                  904,\n",
      "                  905,\n",
      "                  906,\n",
      "                  907,\n",
      "                  908,\n",
      "                  909,\n",
      "                  910,\n",
      "                  911,\n",
      "                  912,\n",
      "                  913,\n",
      "                  914,\n",
      "                  915,\n",
      "                  916,\n",
      "                  917,\n",
      "                  918,\n",
      "                  919,\n",
      "                  920,\n",
      "                  921,\n",
      "                  922,\n",
      "                  923,\n",
      "                  924,\n",
      "                  925,\n",
      "                  926,\n",
      "                  927,\n",
      "                  928,\n",
      "                  929,\n",
      "                  930,\n",
      "                  931,\n",
      "                  932,\n",
      "                  933,\n",
      "                  934,\n",
      "                  935,\n",
      "                  936,\n",
      "                  937,\n",
      "                  938,\n",
      "                  939,\n",
      "                  940,\n",
      "                  941,\n",
      "                  942,\n",
      "                  943,\n",
      "                  944,\n",
      "                  945,\n",
      "                  946,\n",
      "                  947,\n",
      "                  948,\n",
      "                  949,\n",
      "                  950,\n",
      "                  951,\n",
      "                  952,\n",
      "                  953,\n",
      "                  954,\n",
      "                  955,\n",
      "                  956,\n",
      "                  957,\n",
      "                  958,\n",
      "                  959,\n",
      "                  960,\n",
      "                  961,\n",
      "                  962,\n",
      "                  963,\n",
      "                  964,\n",
      "                  965,\n",
      "                  966,\n",
      "                  967,\n",
      "                  968,\n",
      "                  969,\n",
      "                  970,\n",
      "                  971,\n",
      "                  972,\n",
      "                  973,\n",
      "                  974,\n",
      "                  975,\n",
      "                  976,\n",
      "                  977,\n",
      "                  978,\n",
      "                  979,\n",
      "                  980,\n",
      "                  981,\n",
      "                  982,\n",
      "                  983,\n",
      "                  984,\n",
      "                  985,\n",
      "                  986,\n",
      "                  987,\n",
      "                  988,\n",
      "                  989,\n",
      "                  990,\n",
      "                  991,\n",
      "                  992,\n",
      "                  993,\n",
      "                  994,\n",
      "                  995,\n",
      "                  996,\n",
      "                  997,\n",
      "                  998,\n",
      "                  999]}\n"
     ]
    }
   ],
   "source": [
    "#criterion = ['squared_error', 'friedman_mse','absolute_error', 'poisson']\n",
    "# Maximum number of levels in tree\n",
    "max_depth = [int(x) for x in np.linspace(10, 110, num = 11)]\n",
    "random_state=[int(x) for x in np.arange(1000)]\n",
    "max_depth.append(None)\n",
    "# Minimum number of samples required to split a node\n",
    "min_samples_split = [2, 5]\n",
    "# Minimum number of samples required at each leaf node\n",
    "min_samples_leaf = [1, 2, 4]\n",
    "# Create the random grid\n",
    "grid = { #'criterion': criterion,\n",
    "               'random_state':random_state,\n",
    "               'max_depth': max_depth,\n",
    "               'min_samples_split': min_samples_split,\n",
    "               'min_samples_leaf': min_samples_leaf}\n",
    "pprint(grid)"
   ]
  },
  {
   "cell_type": "code",
   "execution_count": 69,
   "id": "956e057b",
   "metadata": {},
   "outputs": [
    {
     "name": "stdout",
     "output_type": "stream",
     "text": [
      "Fitting 3 folds for each of 10000 candidates, totalling 30000 fits\n"
     ]
    },
    {
     "data": {
      "text/html": [
       "<style>#sk-container-id-7 {color: black;background-color: white;}#sk-container-id-7 pre{padding: 0;}#sk-container-id-7 div.sk-toggleable {background-color: white;}#sk-container-id-7 label.sk-toggleable__label {cursor: pointer;display: block;width: 100%;margin-bottom: 0;padding: 0.3em;box-sizing: border-box;text-align: center;}#sk-container-id-7 label.sk-toggleable__label-arrow:before {content: \"▸\";float: left;margin-right: 0.25em;color: #696969;}#sk-container-id-7 label.sk-toggleable__label-arrow:hover:before {color: black;}#sk-container-id-7 div.sk-estimator:hover label.sk-toggleable__label-arrow:before {color: black;}#sk-container-id-7 div.sk-toggleable__content {max-height: 0;max-width: 0;overflow: hidden;text-align: left;background-color: #f0f8ff;}#sk-container-id-7 div.sk-toggleable__content pre {margin: 0.2em;color: black;border-radius: 0.25em;background-color: #f0f8ff;}#sk-container-id-7 input.sk-toggleable__control:checked~div.sk-toggleable__content {max-height: 200px;max-width: 100%;overflow: auto;}#sk-container-id-7 input.sk-toggleable__control:checked~label.sk-toggleable__label-arrow:before {content: \"▾\";}#sk-container-id-7 div.sk-estimator input.sk-toggleable__control:checked~label.sk-toggleable__label {background-color: #d4ebff;}#sk-container-id-7 div.sk-label input.sk-toggleable__control:checked~label.sk-toggleable__label {background-color: #d4ebff;}#sk-container-id-7 input.sk-hidden--visually {border: 0;clip: rect(1px 1px 1px 1px);clip: rect(1px, 1px, 1px, 1px);height: 1px;margin: -1px;overflow: hidden;padding: 0;position: absolute;width: 1px;}#sk-container-id-7 div.sk-estimator {font-family: monospace;background-color: #f0f8ff;border: 1px dotted black;border-radius: 0.25em;box-sizing: border-box;margin-bottom: 0.5em;}#sk-container-id-7 div.sk-estimator:hover {background-color: #d4ebff;}#sk-container-id-7 div.sk-parallel-item::after {content: \"\";width: 100%;border-bottom: 1px solid gray;flex-grow: 1;}#sk-container-id-7 div.sk-label:hover label.sk-toggleable__label {background-color: #d4ebff;}#sk-container-id-7 div.sk-serial::before {content: \"\";position: absolute;border-left: 1px solid gray;box-sizing: border-box;top: 0;bottom: 0;left: 50%;z-index: 0;}#sk-container-id-7 div.sk-serial {display: flex;flex-direction: column;align-items: center;background-color: white;padding-right: 0.2em;padding-left: 0.2em;position: relative;}#sk-container-id-7 div.sk-item {position: relative;z-index: 1;}#sk-container-id-7 div.sk-parallel {display: flex;align-items: stretch;justify-content: center;background-color: white;position: relative;}#sk-container-id-7 div.sk-item::before, #sk-container-id-7 div.sk-parallel-item::before {content: \"\";position: absolute;border-left: 1px solid gray;box-sizing: border-box;top: 0;bottom: 0;left: 50%;z-index: -1;}#sk-container-id-7 div.sk-parallel-item {display: flex;flex-direction: column;z-index: 1;position: relative;background-color: white;}#sk-container-id-7 div.sk-parallel-item:first-child::after {align-self: flex-end;width: 50%;}#sk-container-id-7 div.sk-parallel-item:last-child::after {align-self: flex-start;width: 50%;}#sk-container-id-7 div.sk-parallel-item:only-child::after {width: 0;}#sk-container-id-7 div.sk-dashed-wrapped {border: 1px dashed gray;margin: 0 0.4em 0.5em 0.4em;box-sizing: border-box;padding-bottom: 0.4em;background-color: white;}#sk-container-id-7 div.sk-label label {font-family: monospace;font-weight: bold;display: inline-block;line-height: 1.2em;}#sk-container-id-7 div.sk-label-container {text-align: center;}#sk-container-id-7 div.sk-container {/* jupyter's `normalize.less` sets `[hidden] { display: none; }` but bootstrap.min.css set `[hidden] { display: none !important; }` so we also need the `!important` here to be able to override the default hidden behavior on the sphinx rendered scikit-learn.org. See: https://github.com/scikit-learn/scikit-learn/issues/21755 */display: inline-block !important;position: relative;}#sk-container-id-7 div.sk-text-repr-fallback {display: none;}</style><div id=\"sk-container-id-7\" class=\"sk-top-container\"><div class=\"sk-text-repr-fallback\"><pre>RandomizedSearchCV(cv=3, estimator=DecisionTreeRegressor(), n_iter=10000,\n",
       "                   n_jobs=-1,\n",
       "                   param_distributions={&#x27;max_depth&#x27;: [10, 20, 30, 40, 50, 60,\n",
       "                                                      70, 80, 90, 100, 110,\n",
       "                                                      None],\n",
       "                                        &#x27;min_samples_leaf&#x27;: [1, 2, 4],\n",
       "                                        &#x27;min_samples_split&#x27;: [2, 5],\n",
       "                                        &#x27;random_state&#x27;: [0, 1, 2, 3, 4, 5, 6, 7,\n",
       "                                                         8, 9, 10, 11, 12, 13,\n",
       "                                                         14, 15, 16, 17, 18, 19,\n",
       "                                                         20, 21, 22, 23, 24, 25,\n",
       "                                                         26, 27, 28, 29, ...]},\n",
       "                   verbose=2)</pre><b>In a Jupyter environment, please rerun this cell to show the HTML representation or trust the notebook. <br />On GitHub, the HTML representation is unable to render, please try loading this page with nbviewer.org.</b></div><div class=\"sk-container\" hidden><div class=\"sk-item sk-dashed-wrapped\"><div class=\"sk-label-container\"><div class=\"sk-label sk-toggleable\"><input class=\"sk-toggleable__control sk-hidden--visually\" id=\"sk-estimator-id-7\" type=\"checkbox\" ><label for=\"sk-estimator-id-7\" class=\"sk-toggleable__label sk-toggleable__label-arrow\">RandomizedSearchCV</label><div class=\"sk-toggleable__content\"><pre>RandomizedSearchCV(cv=3, estimator=DecisionTreeRegressor(), n_iter=10000,\n",
       "                   n_jobs=-1,\n",
       "                   param_distributions={&#x27;max_depth&#x27;: [10, 20, 30, 40, 50, 60,\n",
       "                                                      70, 80, 90, 100, 110,\n",
       "                                                      None],\n",
       "                                        &#x27;min_samples_leaf&#x27;: [1, 2, 4],\n",
       "                                        &#x27;min_samples_split&#x27;: [2, 5],\n",
       "                                        &#x27;random_state&#x27;: [0, 1, 2, 3, 4, 5, 6, 7,\n",
       "                                                         8, 9, 10, 11, 12, 13,\n",
       "                                                         14, 15, 16, 17, 18, 19,\n",
       "                                                         20, 21, 22, 23, 24, 25,\n",
       "                                                         26, 27, 28, 29, ...]},\n",
       "                   verbose=2)</pre></div></div></div><div class=\"sk-parallel\"><div class=\"sk-parallel-item\"><div class=\"sk-item\"><div class=\"sk-label-container\"><div class=\"sk-label sk-toggleable\"><input class=\"sk-toggleable__control sk-hidden--visually\" id=\"sk-estimator-id-8\" type=\"checkbox\" ><label for=\"sk-estimator-id-8\" class=\"sk-toggleable__label sk-toggleable__label-arrow\">estimator: DecisionTreeRegressor</label><div class=\"sk-toggleable__content\"><pre>DecisionTreeRegressor()</pre></div></div></div><div class=\"sk-serial\"><div class=\"sk-item\"><div class=\"sk-estimator sk-toggleable\"><input class=\"sk-toggleable__control sk-hidden--visually\" id=\"sk-estimator-id-9\" type=\"checkbox\" ><label for=\"sk-estimator-id-9\" class=\"sk-toggleable__label sk-toggleable__label-arrow\">DecisionTreeRegressor</label><div class=\"sk-toggleable__content\"><pre>DecisionTreeRegressor()</pre></div></div></div></div></div></div></div></div></div></div>"
      ],
      "text/plain": [
       "RandomizedSearchCV(cv=3, estimator=DecisionTreeRegressor(), n_iter=10000,\n",
       "                   n_jobs=-1,\n",
       "                   param_distributions={'max_depth': [10, 20, 30, 40, 50, 60,\n",
       "                                                      70, 80, 90, 100, 110,\n",
       "                                                      None],\n",
       "                                        'min_samples_leaf': [1, 2, 4],\n",
       "                                        'min_samples_split': [2, 5],\n",
       "                                        'random_state': [0, 1, 2, 3, 4, 5, 6, 7,\n",
       "                                                         8, 9, 10, 11, 12, 13,\n",
       "                                                         14, 15, 16, 17, 18, 19,\n",
       "                                                         20, 21, 22, 23, 24, 25,\n",
       "                                                         26, 27, 28, 29, ...]},\n",
       "                   verbose=2)"
      ]
     },
     "execution_count": 69,
     "metadata": {},
     "output_type": "execute_result"
    }
   ],
   "source": [
    "rf_random = RandomizedSearchCV(tree_model, param_distributions = grid, n_iter = 10000, cv = 3, verbose=2, n_jobs = -1)\n",
    "rf_random.fit(x,y)"
   ]
  },
  {
   "cell_type": "code",
   "execution_count": 70,
   "id": "bec492b0",
   "metadata": {},
   "outputs": [
    {
     "data": {
      "text/plain": [
       "{'random_state': 516,\n",
       " 'min_samples_split': 2,\n",
       " 'min_samples_leaf': 1,\n",
       " 'max_depth': 70}"
      ]
     },
     "execution_count": 70,
     "metadata": {},
     "output_type": "execute_result"
    }
   ],
   "source": [
    "rf_random.best_params_"
   ]
  },
  {
   "cell_type": "code",
   "execution_count": 71,
   "id": "624fdf6c",
   "metadata": {},
   "outputs": [],
   "source": [
    "tree_model = tree.DecisionTreeRegressor(criterion = 'squared_error',min_samples_split = 2, min_samples_leaf= 1,max_depth= 70,random_state=516)\n",
    "tree_model_df = tree_model.fit(x_train,y_train)"
   ]
  },
  {
   "cell_type": "code",
   "execution_count": 72,
   "id": "b92996f6",
   "metadata": {},
   "outputs": [
    {
     "data": {
      "text/html": [
       "<div>\n",
       "<style scoped>\n",
       "    .dataframe tbody tr th:only-of-type {\n",
       "        vertical-align: middle;\n",
       "    }\n",
       "\n",
       "    .dataframe tbody tr th {\n",
       "        vertical-align: top;\n",
       "    }\n",
       "\n",
       "    .dataframe thead th {\n",
       "        text-align: right;\n",
       "    }\n",
       "</style>\n",
       "<table border=\"1\" class=\"dataframe\">\n",
       "  <thead>\n",
       "    <tr style=\"text-align: right;\">\n",
       "      <th></th>\n",
       "      <th>Actual</th>\n",
       "      <th>Predicted</th>\n",
       "    </tr>\n",
       "  </thead>\n",
       "  <tbody>\n",
       "    <tr>\n",
       "      <th>0</th>\n",
       "      <td>103282.38</td>\n",
       "      <td>101004.64</td>\n",
       "    </tr>\n",
       "    <tr>\n",
       "      <th>1</th>\n",
       "      <td>144259.40</td>\n",
       "      <td>141585.52</td>\n",
       "    </tr>\n",
       "    <tr>\n",
       "      <th>2</th>\n",
       "      <td>146121.95</td>\n",
       "      <td>141585.52</td>\n",
       "    </tr>\n",
       "    <tr>\n",
       "      <th>3</th>\n",
       "      <td>77798.83</td>\n",
       "      <td>78239.91</td>\n",
       "    </tr>\n",
       "    <tr>\n",
       "      <th>4</th>\n",
       "      <td>191050.39</td>\n",
       "      <td>182901.99</td>\n",
       "    </tr>\n",
       "    <tr>\n",
       "      <th>5</th>\n",
       "      <td>105008.31</td>\n",
       "      <td>108733.99</td>\n",
       "    </tr>\n",
       "    <tr>\n",
       "      <th>6</th>\n",
       "      <td>81229.06</td>\n",
       "      <td>71498.49</td>\n",
       "    </tr>\n",
       "    <tr>\n",
       "      <th>7</th>\n",
       "      <td>97483.56</td>\n",
       "      <td>99937.59</td>\n",
       "    </tr>\n",
       "    <tr>\n",
       "      <th>8</th>\n",
       "      <td>110352.25</td>\n",
       "      <td>108733.99</td>\n",
       "    </tr>\n",
       "    <tr>\n",
       "      <th>9</th>\n",
       "      <td>166187.94</td>\n",
       "      <td>182901.99</td>\n",
       "    </tr>\n",
       "  </tbody>\n",
       "</table>\n",
       "</div>"
      ],
      "text/plain": [
       "      Actual  Predicted\n",
       "0  103282.38  101004.64\n",
       "1  144259.40  141585.52\n",
       "2  146121.95  141585.52\n",
       "3   77798.83   78239.91\n",
       "4  191050.39  182901.99\n",
       "5  105008.31  108733.99\n",
       "6   81229.06   71498.49\n",
       "7   97483.56   99937.59\n",
       "8  110352.25  108733.99\n",
       "9  166187.94  182901.99"
      ]
     },
     "execution_count": 72,
     "metadata": {},
     "output_type": "execute_result"
    }
   ],
   "source": [
    "hyper_random_tree_model_pred=tree_model.predict(x_test)\n",
    "tree_model_df = pd.DataFrame({'Actual': y_test, 'Predicted':tree_model_pred})  \n",
    "tree_model_df "
   ]
  },
  {
   "cell_type": "code",
   "execution_count": 73,
   "id": "c79814a6",
   "metadata": {},
   "outputs": [
    {
     "data": {
      "text/plain": [
       "0.96"
      ]
     },
     "execution_count": 73,
     "metadata": {},
     "output_type": "execute_result"
    }
   ],
   "source": [
    "np.round(metrics.r2_score(tree_model_pred, y_test),2)"
   ]
  },
  {
   "cell_type": "code",
   "execution_count": 74,
   "id": "eb3036ef",
   "metadata": {},
   "outputs": [
    {
     "name": "stdout",
     "output_type": "stream",
     "text": [
      "Model Performance\n",
      "Average Error: 4240.4580 degrees.\n",
      "Accuracy = 96.54%.\n"
     ]
    }
   ],
   "source": [
    "Accuracy_RSV = evaluate(tree_model,x_test,y_test,hyper_random_tree_model_pred)"
   ]
  },
  {
   "cell_type": "code",
   "execution_count": 75,
   "id": "30ad80d4",
   "metadata": {},
   "outputs": [
    {
     "name": "stdout",
     "output_type": "stream",
     "text": [
      "Improvement of 0.73%.\n"
     ]
    }
   ],
   "source": [
    "print('Improvement of {:0.2f}%.'.format( 100 * (Accuracy_RSV - Base_Accuracy) / Base_Accuracy))\n"
   ]
  },
  {
   "cell_type": "code",
   "execution_count": 76,
   "id": "e516b88d",
   "metadata": {},
   "outputs": [],
   "source": [
    "Model_Accuracy.append(Accuracy_RSV)"
   ]
  },
  {
   "cell_type": "markdown",
   "id": "61e4b66a",
   "metadata": {},
   "source": [
    "### GridSearchCV "
   ]
  },
  {
   "cell_type": "code",
   "execution_count": 77,
   "id": "28ac7bb1",
   "metadata": {},
   "outputs": [],
   "source": [
    "from sklearn.model_selection import GridSearchCV"
   ]
  },
  {
   "cell_type": "code",
   "execution_count": 78,
   "id": "c1054bf4",
   "metadata": {},
   "outputs": [],
   "source": [
    "tree_model = tree.DecisionTreeRegressor()"
   ]
  },
  {
   "cell_type": "code",
   "execution_count": 79,
   "id": "84c1eb76",
   "metadata": {},
   "outputs": [
    {
     "name": "stdout",
     "output_type": "stream",
     "text": [
      "{'max_depth': [10, 20, 30, 40, 50, 60, 70, 80, 90, 100, 110, None],\n",
      " 'min_samples_leaf': [1, 2, 4],\n",
      " 'min_samples_split': [2, 5],\n",
      " 'random_state': [0,\n",
      "                  1,\n",
      "                  2,\n",
      "                  3,\n",
      "                  4,\n",
      "                  5,\n",
      "                  6,\n",
      "                  7,\n",
      "                  8,\n",
      "                  9,\n",
      "                  10,\n",
      "                  11,\n",
      "                  12,\n",
      "                  13,\n",
      "                  14,\n",
      "                  15,\n",
      "                  16,\n",
      "                  17,\n",
      "                  18,\n",
      "                  19,\n",
      "                  20,\n",
      "                  21,\n",
      "                  22,\n",
      "                  23,\n",
      "                  24,\n",
      "                  25,\n",
      "                  26,\n",
      "                  27,\n",
      "                  28,\n",
      "                  29,\n",
      "                  30,\n",
      "                  31,\n",
      "                  32,\n",
      "                  33,\n",
      "                  34,\n",
      "                  35,\n",
      "                  36,\n",
      "                  37,\n",
      "                  38,\n",
      "                  39,\n",
      "                  40,\n",
      "                  41,\n",
      "                  42,\n",
      "                  43,\n",
      "                  44,\n",
      "                  45,\n",
      "                  46,\n",
      "                  47,\n",
      "                  48,\n",
      "                  49,\n",
      "                  50,\n",
      "                  51,\n",
      "                  52,\n",
      "                  53,\n",
      "                  54,\n",
      "                  55,\n",
      "                  56,\n",
      "                  57,\n",
      "                  58,\n",
      "                  59,\n",
      "                  60,\n",
      "                  61,\n",
      "                  62,\n",
      "                  63,\n",
      "                  64,\n",
      "                  65,\n",
      "                  66,\n",
      "                  67,\n",
      "                  68,\n",
      "                  69,\n",
      "                  70,\n",
      "                  71,\n",
      "                  72,\n",
      "                  73,\n",
      "                  74,\n",
      "                  75,\n",
      "                  76,\n",
      "                  77,\n",
      "                  78,\n",
      "                  79,\n",
      "                  80,\n",
      "                  81,\n",
      "                  82,\n",
      "                  83,\n",
      "                  84,\n",
      "                  85,\n",
      "                  86,\n",
      "                  87,\n",
      "                  88,\n",
      "                  89,\n",
      "                  90,\n",
      "                  91,\n",
      "                  92,\n",
      "                  93,\n",
      "                  94,\n",
      "                  95,\n",
      "                  96,\n",
      "                  97,\n",
      "                  98,\n",
      "                  99,\n",
      "                  100,\n",
      "                  101,\n",
      "                  102,\n",
      "                  103,\n",
      "                  104,\n",
      "                  105,\n",
      "                  106,\n",
      "                  107,\n",
      "                  108,\n",
      "                  109,\n",
      "                  110,\n",
      "                  111,\n",
      "                  112,\n",
      "                  113,\n",
      "                  114,\n",
      "                  115,\n",
      "                  116,\n",
      "                  117,\n",
      "                  118,\n",
      "                  119,\n",
      "                  120,\n",
      "                  121,\n",
      "                  122,\n",
      "                  123,\n",
      "                  124,\n",
      "                  125,\n",
      "                  126,\n",
      "                  127,\n",
      "                  128,\n",
      "                  129,\n",
      "                  130,\n",
      "                  131,\n",
      "                  132,\n",
      "                  133,\n",
      "                  134,\n",
      "                  135,\n",
      "                  136,\n",
      "                  137,\n",
      "                  138,\n",
      "                  139,\n",
      "                  140,\n",
      "                  141,\n",
      "                  142,\n",
      "                  143,\n",
      "                  144,\n",
      "                  145,\n",
      "                  146,\n",
      "                  147,\n",
      "                  148,\n",
      "                  149,\n",
      "                  150,\n",
      "                  151,\n",
      "                  152,\n",
      "                  153,\n",
      "                  154,\n",
      "                  155,\n",
      "                  156,\n",
      "                  157,\n",
      "                  158,\n",
      "                  159,\n",
      "                  160,\n",
      "                  161,\n",
      "                  162,\n",
      "                  163,\n",
      "                  164,\n",
      "                  165,\n",
      "                  166,\n",
      "                  167,\n",
      "                  168,\n",
      "                  169,\n",
      "                  170,\n",
      "                  171,\n",
      "                  172,\n",
      "                  173,\n",
      "                  174,\n",
      "                  175,\n",
      "                  176,\n",
      "                  177,\n",
      "                  178,\n",
      "                  179,\n",
      "                  180,\n",
      "                  181,\n",
      "                  182,\n",
      "                  183,\n",
      "                  184,\n",
      "                  185,\n",
      "                  186,\n",
      "                  187,\n",
      "                  188,\n",
      "                  189,\n",
      "                  190,\n",
      "                  191,\n",
      "                  192,\n",
      "                  193,\n",
      "                  194,\n",
      "                  195,\n",
      "                  196,\n",
      "                  197,\n",
      "                  198,\n",
      "                  199,\n",
      "                  200,\n",
      "                  201,\n",
      "                  202,\n",
      "                  203,\n",
      "                  204,\n",
      "                  205,\n",
      "                  206,\n",
      "                  207,\n",
      "                  208,\n",
      "                  209,\n",
      "                  210,\n",
      "                  211,\n",
      "                  212,\n",
      "                  213,\n",
      "                  214,\n",
      "                  215,\n",
      "                  216,\n",
      "                  217,\n",
      "                  218,\n",
      "                  219,\n",
      "                  220,\n",
      "                  221,\n",
      "                  222,\n",
      "                  223,\n",
      "                  224,\n",
      "                  225,\n",
      "                  226,\n",
      "                  227,\n",
      "                  228,\n",
      "                  229,\n",
      "                  230,\n",
      "                  231,\n",
      "                  232,\n",
      "                  233,\n",
      "                  234,\n",
      "                  235,\n",
      "                  236,\n",
      "                  237,\n",
      "                  238,\n",
      "                  239,\n",
      "                  240,\n",
      "                  241,\n",
      "                  242,\n",
      "                  243,\n",
      "                  244,\n",
      "                  245,\n",
      "                  246,\n",
      "                  247,\n",
      "                  248,\n",
      "                  249,\n",
      "                  250,\n",
      "                  251,\n",
      "                  252,\n",
      "                  253,\n",
      "                  254,\n",
      "                  255,\n",
      "                  256,\n",
      "                  257,\n",
      "                  258,\n",
      "                  259,\n",
      "                  260,\n",
      "                  261,\n",
      "                  262,\n",
      "                  263,\n",
      "                  264,\n",
      "                  265,\n",
      "                  266,\n",
      "                  267,\n",
      "                  268,\n",
      "                  269,\n",
      "                  270,\n",
      "                  271,\n",
      "                  272,\n",
      "                  273,\n",
      "                  274,\n",
      "                  275,\n",
      "                  276,\n",
      "                  277,\n",
      "                  278,\n",
      "                  279,\n",
      "                  280,\n",
      "                  281,\n",
      "                  282,\n",
      "                  283,\n",
      "                  284,\n",
      "                  285,\n",
      "                  286,\n",
      "                  287,\n",
      "                  288,\n",
      "                  289,\n",
      "                  290,\n",
      "                  291,\n",
      "                  292,\n",
      "                  293,\n",
      "                  294,\n",
      "                  295,\n",
      "                  296,\n",
      "                  297,\n",
      "                  298,\n",
      "                  299,\n",
      "                  300,\n",
      "                  301,\n",
      "                  302,\n",
      "                  303,\n",
      "                  304,\n",
      "                  305,\n",
      "                  306,\n",
      "                  307,\n",
      "                  308,\n",
      "                  309,\n",
      "                  310,\n",
      "                  311,\n",
      "                  312,\n",
      "                  313,\n",
      "                  314,\n",
      "                  315,\n",
      "                  316,\n",
      "                  317,\n",
      "                  318,\n",
      "                  319,\n",
      "                  320,\n",
      "                  321,\n",
      "                  322,\n",
      "                  323,\n",
      "                  324,\n",
      "                  325,\n",
      "                  326,\n",
      "                  327,\n",
      "                  328,\n",
      "                  329,\n",
      "                  330,\n",
      "                  331,\n",
      "                  332,\n",
      "                  333,\n",
      "                  334,\n",
      "                  335,\n",
      "                  336,\n",
      "                  337,\n",
      "                  338,\n",
      "                  339,\n",
      "                  340,\n",
      "                  341,\n",
      "                  342,\n",
      "                  343,\n",
      "                  344,\n",
      "                  345,\n",
      "                  346,\n",
      "                  347,\n",
      "                  348,\n",
      "                  349,\n",
      "                  350,\n",
      "                  351,\n",
      "                  352,\n",
      "                  353,\n",
      "                  354,\n",
      "                  355,\n",
      "                  356,\n",
      "                  357,\n",
      "                  358,\n",
      "                  359,\n",
      "                  360,\n",
      "                  361,\n",
      "                  362,\n",
      "                  363,\n",
      "                  364,\n",
      "                  365,\n",
      "                  366,\n",
      "                  367,\n",
      "                  368,\n",
      "                  369,\n",
      "                  370,\n",
      "                  371,\n",
      "                  372,\n",
      "                  373,\n",
      "                  374,\n",
      "                  375,\n",
      "                  376,\n",
      "                  377,\n",
      "                  378,\n",
      "                  379,\n",
      "                  380,\n",
      "                  381,\n",
      "                  382,\n",
      "                  383,\n",
      "                  384,\n",
      "                  385,\n",
      "                  386,\n",
      "                  387,\n",
      "                  388,\n",
      "                  389,\n",
      "                  390,\n",
      "                  391,\n",
      "                  392,\n",
      "                  393,\n",
      "                  394,\n",
      "                  395,\n",
      "                  396,\n",
      "                  397,\n",
      "                  398,\n",
      "                  399,\n",
      "                  400,\n",
      "                  401,\n",
      "                  402,\n",
      "                  403,\n",
      "                  404,\n",
      "                  405,\n",
      "                  406,\n",
      "                  407,\n",
      "                  408,\n",
      "                  409,\n",
      "                  410,\n",
      "                  411,\n",
      "                  412,\n",
      "                  413,\n",
      "                  414,\n",
      "                  415,\n",
      "                  416,\n",
      "                  417,\n",
      "                  418,\n",
      "                  419,\n",
      "                  420,\n",
      "                  421,\n",
      "                  422,\n",
      "                  423,\n",
      "                  424,\n",
      "                  425,\n",
      "                  426,\n",
      "                  427,\n",
      "                  428,\n",
      "                  429,\n",
      "                  430,\n",
      "                  431,\n",
      "                  432,\n",
      "                  433,\n",
      "                  434,\n",
      "                  435,\n",
      "                  436,\n",
      "                  437,\n",
      "                  438,\n",
      "                  439,\n",
      "                  440,\n",
      "                  441,\n",
      "                  442,\n",
      "                  443,\n",
      "                  444,\n",
      "                  445,\n",
      "                  446,\n",
      "                  447,\n",
      "                  448,\n",
      "                  449,\n",
      "                  450,\n",
      "                  451,\n",
      "                  452,\n",
      "                  453,\n",
      "                  454,\n",
      "                  455,\n",
      "                  456,\n",
      "                  457,\n",
      "                  458,\n",
      "                  459,\n",
      "                  460,\n",
      "                  461,\n",
      "                  462,\n",
      "                  463,\n",
      "                  464,\n",
      "                  465,\n",
      "                  466,\n",
      "                  467,\n",
      "                  468,\n",
      "                  469,\n",
      "                  470,\n",
      "                  471,\n",
      "                  472,\n",
      "                  473,\n",
      "                  474,\n",
      "                  475,\n",
      "                  476,\n",
      "                  477,\n",
      "                  478,\n",
      "                  479,\n",
      "                  480,\n",
      "                  481,\n",
      "                  482,\n",
      "                  483,\n",
      "                  484,\n",
      "                  485,\n",
      "                  486,\n",
      "                  487,\n",
      "                  488,\n",
      "                  489,\n",
      "                  490,\n",
      "                  491,\n",
      "                  492,\n",
      "                  493,\n",
      "                  494,\n",
      "                  495,\n",
      "                  496,\n",
      "                  497,\n",
      "                  498,\n",
      "                  499,\n",
      "                  500,\n",
      "                  501,\n",
      "                  502,\n",
      "                  503,\n",
      "                  504,\n",
      "                  505,\n",
      "                  506,\n",
      "                  507,\n",
      "                  508,\n",
      "                  509,\n",
      "                  510,\n",
      "                  511,\n",
      "                  512,\n",
      "                  513,\n",
      "                  514,\n",
      "                  515,\n",
      "                  516,\n",
      "                  517,\n",
      "                  518,\n",
      "                  519,\n",
      "                  520,\n",
      "                  521,\n",
      "                  522,\n",
      "                  523,\n",
      "                  524,\n",
      "                  525,\n",
      "                  526,\n",
      "                  527,\n",
      "                  528,\n",
      "                  529,\n",
      "                  530,\n",
      "                  531,\n",
      "                  532,\n",
      "                  533,\n",
      "                  534,\n",
      "                  535,\n",
      "                  536,\n",
      "                  537,\n",
      "                  538,\n",
      "                  539,\n",
      "                  540,\n",
      "                  541,\n",
      "                  542,\n",
      "                  543,\n",
      "                  544,\n",
      "                  545,\n",
      "                  546,\n",
      "                  547,\n",
      "                  548,\n",
      "                  549,\n",
      "                  550,\n",
      "                  551,\n",
      "                  552,\n",
      "                  553,\n",
      "                  554,\n",
      "                  555,\n",
      "                  556,\n",
      "                  557,\n",
      "                  558,\n",
      "                  559,\n",
      "                  560,\n",
      "                  561,\n",
      "                  562,\n",
      "                  563,\n",
      "                  564,\n",
      "                  565,\n",
      "                  566,\n",
      "                  567,\n",
      "                  568,\n",
      "                  569,\n",
      "                  570,\n",
      "                  571,\n",
      "                  572,\n",
      "                  573,\n",
      "                  574,\n",
      "                  575,\n",
      "                  576,\n",
      "                  577,\n",
      "                  578,\n",
      "                  579,\n",
      "                  580,\n",
      "                  581,\n",
      "                  582,\n",
      "                  583,\n",
      "                  584,\n",
      "                  585,\n",
      "                  586,\n",
      "                  587,\n",
      "                  588,\n",
      "                  589,\n",
      "                  590,\n",
      "                  591,\n",
      "                  592,\n",
      "                  593,\n",
      "                  594,\n",
      "                  595,\n",
      "                  596,\n",
      "                  597,\n",
      "                  598,\n",
      "                  599,\n",
      "                  600,\n",
      "                  601,\n",
      "                  602,\n",
      "                  603,\n",
      "                  604,\n",
      "                  605,\n",
      "                  606,\n",
      "                  607,\n",
      "                  608,\n",
      "                  609,\n",
      "                  610,\n",
      "                  611,\n",
      "                  612,\n",
      "                  613,\n",
      "                  614,\n",
      "                  615,\n",
      "                  616,\n",
      "                  617,\n",
      "                  618,\n",
      "                  619,\n",
      "                  620,\n",
      "                  621,\n",
      "                  622,\n",
      "                  623,\n",
      "                  624,\n",
      "                  625,\n",
      "                  626,\n",
      "                  627,\n",
      "                  628,\n",
      "                  629,\n",
      "                  630,\n",
      "                  631,\n",
      "                  632,\n",
      "                  633,\n",
      "                  634,\n",
      "                  635,\n",
      "                  636,\n",
      "                  637,\n",
      "                  638,\n",
      "                  639,\n",
      "                  640,\n",
      "                  641,\n",
      "                  642,\n",
      "                  643,\n",
      "                  644,\n",
      "                  645,\n",
      "                  646,\n",
      "                  647,\n",
      "                  648,\n",
      "                  649,\n",
      "                  650,\n",
      "                  651,\n",
      "                  652,\n",
      "                  653,\n",
      "                  654,\n",
      "                  655,\n",
      "                  656,\n",
      "                  657,\n",
      "                  658,\n",
      "                  659,\n",
      "                  660,\n",
      "                  661,\n",
      "                  662,\n",
      "                  663,\n",
      "                  664,\n",
      "                  665,\n",
      "                  666,\n",
      "                  667,\n",
      "                  668,\n",
      "                  669,\n",
      "                  670,\n",
      "                  671,\n",
      "                  672,\n",
      "                  673,\n",
      "                  674,\n",
      "                  675,\n",
      "                  676,\n",
      "                  677,\n",
      "                  678,\n",
      "                  679,\n",
      "                  680,\n",
      "                  681,\n",
      "                  682,\n",
      "                  683,\n",
      "                  684,\n",
      "                  685,\n",
      "                  686,\n",
      "                  687,\n",
      "                  688,\n",
      "                  689,\n",
      "                  690,\n",
      "                  691,\n",
      "                  692,\n",
      "                  693,\n",
      "                  694,\n",
      "                  695,\n",
      "                  696,\n",
      "                  697,\n",
      "                  698,\n",
      "                  699,\n",
      "                  700,\n",
      "                  701,\n",
      "                  702,\n",
      "                  703,\n",
      "                  704,\n",
      "                  705,\n",
      "                  706,\n",
      "                  707,\n",
      "                  708,\n",
      "                  709,\n",
      "                  710,\n",
      "                  711,\n",
      "                  712,\n",
      "                  713,\n",
      "                  714,\n",
      "                  715,\n",
      "                  716,\n",
      "                  717,\n",
      "                  718,\n",
      "                  719,\n",
      "                  720,\n",
      "                  721,\n",
      "                  722,\n",
      "                  723,\n",
      "                  724,\n",
      "                  725,\n",
      "                  726,\n",
      "                  727,\n",
      "                  728,\n",
      "                  729,\n",
      "                  730,\n",
      "                  731,\n",
      "                  732,\n",
      "                  733,\n",
      "                  734,\n",
      "                  735,\n",
      "                  736,\n",
      "                  737,\n",
      "                  738,\n",
      "                  739,\n",
      "                  740,\n",
      "                  741,\n",
      "                  742,\n",
      "                  743,\n",
      "                  744,\n",
      "                  745,\n",
      "                  746,\n",
      "                  747,\n",
      "                  748,\n",
      "                  749,\n",
      "                  750,\n",
      "                  751,\n",
      "                  752,\n",
      "                  753,\n",
      "                  754,\n",
      "                  755,\n",
      "                  756,\n",
      "                  757,\n",
      "                  758,\n",
      "                  759,\n",
      "                  760,\n",
      "                  761,\n",
      "                  762,\n",
      "                  763,\n",
      "                  764,\n",
      "                  765,\n",
      "                  766,\n",
      "                  767,\n",
      "                  768,\n",
      "                  769,\n",
      "                  770,\n",
      "                  771,\n",
      "                  772,\n",
      "                  773,\n",
      "                  774,\n",
      "                  775,\n",
      "                  776,\n",
      "                  777,\n",
      "                  778,\n",
      "                  779,\n",
      "                  780,\n",
      "                  781,\n",
      "                  782,\n",
      "                  783,\n",
      "                  784,\n",
      "                  785,\n",
      "                  786,\n",
      "                  787,\n",
      "                  788,\n",
      "                  789,\n",
      "                  790,\n",
      "                  791,\n",
      "                  792,\n",
      "                  793,\n",
      "                  794,\n",
      "                  795,\n",
      "                  796,\n",
      "                  797,\n",
      "                  798,\n",
      "                  799,\n",
      "                  800,\n",
      "                  801,\n",
      "                  802,\n",
      "                  803,\n",
      "                  804,\n",
      "                  805,\n",
      "                  806,\n",
      "                  807,\n",
      "                  808,\n",
      "                  809,\n",
      "                  810,\n",
      "                  811,\n",
      "                  812,\n",
      "                  813,\n",
      "                  814,\n",
      "                  815,\n",
      "                  816,\n",
      "                  817,\n",
      "                  818,\n",
      "                  819,\n",
      "                  820,\n",
      "                  821,\n",
      "                  822,\n",
      "                  823,\n",
      "                  824,\n",
      "                  825,\n",
      "                  826,\n",
      "                  827,\n",
      "                  828,\n",
      "                  829,\n",
      "                  830,\n",
      "                  831,\n",
      "                  832,\n",
      "                  833,\n",
      "                  834,\n",
      "                  835,\n",
      "                  836,\n",
      "                  837,\n",
      "                  838,\n",
      "                  839,\n",
      "                  840,\n",
      "                  841,\n",
      "                  842,\n",
      "                  843,\n",
      "                  844,\n",
      "                  845,\n",
      "                  846,\n",
      "                  847,\n",
      "                  848,\n",
      "                  849,\n",
      "                  850,\n",
      "                  851,\n",
      "                  852,\n",
      "                  853,\n",
      "                  854,\n",
      "                  855,\n",
      "                  856,\n",
      "                  857,\n",
      "                  858,\n",
      "                  859,\n",
      "                  860,\n",
      "                  861,\n",
      "                  862,\n",
      "                  863,\n",
      "                  864,\n",
      "                  865,\n",
      "                  866,\n",
      "                  867,\n",
      "                  868,\n",
      "                  869,\n",
      "                  870,\n",
      "                  871,\n",
      "                  872,\n",
      "                  873,\n",
      "                  874,\n",
      "                  875,\n",
      "                  876,\n",
      "                  877,\n",
      "                  878,\n",
      "                  879,\n",
      "                  880,\n",
      "                  881,\n",
      "                  882,\n",
      "                  883,\n",
      "                  884,\n",
      "                  885,\n",
      "                  886,\n",
      "                  887,\n",
      "                  888,\n",
      "                  889,\n",
      "                  890,\n",
      "                  891,\n",
      "                  892,\n",
      "                  893,\n",
      "                  894,\n",
      "                  895,\n",
      "                  896,\n",
      "                  897,\n",
      "                  898,\n",
      "                  899,\n",
      "                  900,\n",
      "                  901,\n",
      "                  902,\n",
      "                  903,\n",
      "                  904,\n",
      "                  905,\n",
      "                  906,\n",
      "                  907,\n",
      "                  908,\n",
      "                  909,\n",
      "                  910,\n",
      "                  911,\n",
      "                  912,\n",
      "                  913,\n",
      "                  914,\n",
      "                  915,\n",
      "                  916,\n",
      "                  917,\n",
      "                  918,\n",
      "                  919,\n",
      "                  920,\n",
      "                  921,\n",
      "                  922,\n",
      "                  923,\n",
      "                  924,\n",
      "                  925,\n",
      "                  926,\n",
      "                  927,\n",
      "                  928,\n",
      "                  929,\n",
      "                  930,\n",
      "                  931,\n",
      "                  932,\n",
      "                  933,\n",
      "                  934,\n",
      "                  935,\n",
      "                  936,\n",
      "                  937,\n",
      "                  938,\n",
      "                  939,\n",
      "                  940,\n",
      "                  941,\n",
      "                  942,\n",
      "                  943,\n",
      "                  944,\n",
      "                  945,\n",
      "                  946,\n",
      "                  947,\n",
      "                  948,\n",
      "                  949,\n",
      "                  950,\n",
      "                  951,\n",
      "                  952,\n",
      "                  953,\n",
      "                  954,\n",
      "                  955,\n",
      "                  956,\n",
      "                  957,\n",
      "                  958,\n",
      "                  959,\n",
      "                  960,\n",
      "                  961,\n",
      "                  962,\n",
      "                  963,\n",
      "                  964,\n",
      "                  965,\n",
      "                  966,\n",
      "                  967,\n",
      "                  968,\n",
      "                  969,\n",
      "                  970,\n",
      "                  971,\n",
      "                  972,\n",
      "                  973,\n",
      "                  974,\n",
      "                  975,\n",
      "                  976,\n",
      "                  977,\n",
      "                  978,\n",
      "                  979,\n",
      "                  980,\n",
      "                  981,\n",
      "                  982,\n",
      "                  983,\n",
      "                  984,\n",
      "                  985,\n",
      "                  986,\n",
      "                  987,\n",
      "                  988,\n",
      "                  989,\n",
      "                  990,\n",
      "                  991,\n",
      "                  992,\n",
      "                  993,\n",
      "                  994,\n",
      "                  995,\n",
      "                  996,\n",
      "                  997,\n",
      "                  998,\n",
      "                  999]}\n"
     ]
    }
   ],
   "source": [
    "max_depth = [int(x) for x in np.linspace(10, 110, num = 11)]\n",
    "random_state=[int(x) for x in np.arange(1000)]\n",
    "max_depth.append(None)\n",
    "# Minimum number of samples required to split a node\n",
    "min_samples_split = [2, 5]\n",
    "# Minimum number of samples required at each leaf node\n",
    "min_samples_leaf = [1, 2, 4]\n",
    "# Create the random grid\n",
    "grid = { #'criterion': criterion,\n",
    "               'random_state':random_state,\n",
    "               'max_depth': max_depth,\n",
    "               'min_samples_split': min_samples_split,\n",
    "               'min_samples_leaf': min_samples_leaf}\n",
    "pprint(grid)"
   ]
  },
  {
   "cell_type": "code",
   "execution_count": 80,
   "id": "fea6e794",
   "metadata": {},
   "outputs": [
    {
     "name": "stdout",
     "output_type": "stream",
     "text": [
      "Fitting 3 folds for each of 72000 candidates, totalling 216000 fits\n"
     ]
    },
    {
     "data": {
      "text/html": [
       "<style>#sk-container-id-8 {color: black;background-color: white;}#sk-container-id-8 pre{padding: 0;}#sk-container-id-8 div.sk-toggleable {background-color: white;}#sk-container-id-8 label.sk-toggleable__label {cursor: pointer;display: block;width: 100%;margin-bottom: 0;padding: 0.3em;box-sizing: border-box;text-align: center;}#sk-container-id-8 label.sk-toggleable__label-arrow:before {content: \"▸\";float: left;margin-right: 0.25em;color: #696969;}#sk-container-id-8 label.sk-toggleable__label-arrow:hover:before {color: black;}#sk-container-id-8 div.sk-estimator:hover label.sk-toggleable__label-arrow:before {color: black;}#sk-container-id-8 div.sk-toggleable__content {max-height: 0;max-width: 0;overflow: hidden;text-align: left;background-color: #f0f8ff;}#sk-container-id-8 div.sk-toggleable__content pre {margin: 0.2em;color: black;border-radius: 0.25em;background-color: #f0f8ff;}#sk-container-id-8 input.sk-toggleable__control:checked~div.sk-toggleable__content {max-height: 200px;max-width: 100%;overflow: auto;}#sk-container-id-8 input.sk-toggleable__control:checked~label.sk-toggleable__label-arrow:before {content: \"▾\";}#sk-container-id-8 div.sk-estimator input.sk-toggleable__control:checked~label.sk-toggleable__label {background-color: #d4ebff;}#sk-container-id-8 div.sk-label input.sk-toggleable__control:checked~label.sk-toggleable__label {background-color: #d4ebff;}#sk-container-id-8 input.sk-hidden--visually {border: 0;clip: rect(1px 1px 1px 1px);clip: rect(1px, 1px, 1px, 1px);height: 1px;margin: -1px;overflow: hidden;padding: 0;position: absolute;width: 1px;}#sk-container-id-8 div.sk-estimator {font-family: monospace;background-color: #f0f8ff;border: 1px dotted black;border-radius: 0.25em;box-sizing: border-box;margin-bottom: 0.5em;}#sk-container-id-8 div.sk-estimator:hover {background-color: #d4ebff;}#sk-container-id-8 div.sk-parallel-item::after {content: \"\";width: 100%;border-bottom: 1px solid gray;flex-grow: 1;}#sk-container-id-8 div.sk-label:hover label.sk-toggleable__label {background-color: #d4ebff;}#sk-container-id-8 div.sk-serial::before {content: \"\";position: absolute;border-left: 1px solid gray;box-sizing: border-box;top: 0;bottom: 0;left: 50%;z-index: 0;}#sk-container-id-8 div.sk-serial {display: flex;flex-direction: column;align-items: center;background-color: white;padding-right: 0.2em;padding-left: 0.2em;position: relative;}#sk-container-id-8 div.sk-item {position: relative;z-index: 1;}#sk-container-id-8 div.sk-parallel {display: flex;align-items: stretch;justify-content: center;background-color: white;position: relative;}#sk-container-id-8 div.sk-item::before, #sk-container-id-8 div.sk-parallel-item::before {content: \"\";position: absolute;border-left: 1px solid gray;box-sizing: border-box;top: 0;bottom: 0;left: 50%;z-index: -1;}#sk-container-id-8 div.sk-parallel-item {display: flex;flex-direction: column;z-index: 1;position: relative;background-color: white;}#sk-container-id-8 div.sk-parallel-item:first-child::after {align-self: flex-end;width: 50%;}#sk-container-id-8 div.sk-parallel-item:last-child::after {align-self: flex-start;width: 50%;}#sk-container-id-8 div.sk-parallel-item:only-child::after {width: 0;}#sk-container-id-8 div.sk-dashed-wrapped {border: 1px dashed gray;margin: 0 0.4em 0.5em 0.4em;box-sizing: border-box;padding-bottom: 0.4em;background-color: white;}#sk-container-id-8 div.sk-label label {font-family: monospace;font-weight: bold;display: inline-block;line-height: 1.2em;}#sk-container-id-8 div.sk-label-container {text-align: center;}#sk-container-id-8 div.sk-container {/* jupyter's `normalize.less` sets `[hidden] { display: none; }` but bootstrap.min.css set `[hidden] { display: none !important; }` so we also need the `!important` here to be able to override the default hidden behavior on the sphinx rendered scikit-learn.org. See: https://github.com/scikit-learn/scikit-learn/issues/21755 */display: inline-block !important;position: relative;}#sk-container-id-8 div.sk-text-repr-fallback {display: none;}</style><div id=\"sk-container-id-8\" class=\"sk-top-container\"><div class=\"sk-text-repr-fallback\"><pre>GridSearchCV(cv=3, estimator=DecisionTreeRegressor(), n_jobs=-1,\n",
       "             param_grid={&#x27;max_depth&#x27;: [10, 20, 30, 40, 50, 60, 70, 80, 90, 100,\n",
       "                                       110, None],\n",
       "                         &#x27;min_samples_leaf&#x27;: [1, 2, 4],\n",
       "                         &#x27;min_samples_split&#x27;: [2, 5],\n",
       "                         &#x27;random_state&#x27;: [0, 1, 2, 3, 4, 5, 6, 7, 8, 9, 10, 11,\n",
       "                                          12, 13, 14, 15, 16, 17, 18, 19, 20,\n",
       "                                          21, 22, 23, 24, 25, 26, 27, 28, 29, ...]},\n",
       "             verbose=2)</pre><b>In a Jupyter environment, please rerun this cell to show the HTML representation or trust the notebook. <br />On GitHub, the HTML representation is unable to render, please try loading this page with nbviewer.org.</b></div><div class=\"sk-container\" hidden><div class=\"sk-item sk-dashed-wrapped\"><div class=\"sk-label-container\"><div class=\"sk-label sk-toggleable\"><input class=\"sk-toggleable__control sk-hidden--visually\" id=\"sk-estimator-id-10\" type=\"checkbox\" ><label for=\"sk-estimator-id-10\" class=\"sk-toggleable__label sk-toggleable__label-arrow\">GridSearchCV</label><div class=\"sk-toggleable__content\"><pre>GridSearchCV(cv=3, estimator=DecisionTreeRegressor(), n_jobs=-1,\n",
       "             param_grid={&#x27;max_depth&#x27;: [10, 20, 30, 40, 50, 60, 70, 80, 90, 100,\n",
       "                                       110, None],\n",
       "                         &#x27;min_samples_leaf&#x27;: [1, 2, 4],\n",
       "                         &#x27;min_samples_split&#x27;: [2, 5],\n",
       "                         &#x27;random_state&#x27;: [0, 1, 2, 3, 4, 5, 6, 7, 8, 9, 10, 11,\n",
       "                                          12, 13, 14, 15, 16, 17, 18, 19, 20,\n",
       "                                          21, 22, 23, 24, 25, 26, 27, 28, 29, ...]},\n",
       "             verbose=2)</pre></div></div></div><div class=\"sk-parallel\"><div class=\"sk-parallel-item\"><div class=\"sk-item\"><div class=\"sk-label-container\"><div class=\"sk-label sk-toggleable\"><input class=\"sk-toggleable__control sk-hidden--visually\" id=\"sk-estimator-id-11\" type=\"checkbox\" ><label for=\"sk-estimator-id-11\" class=\"sk-toggleable__label sk-toggleable__label-arrow\">estimator: DecisionTreeRegressor</label><div class=\"sk-toggleable__content\"><pre>DecisionTreeRegressor()</pre></div></div></div><div class=\"sk-serial\"><div class=\"sk-item\"><div class=\"sk-estimator sk-toggleable\"><input class=\"sk-toggleable__control sk-hidden--visually\" id=\"sk-estimator-id-12\" type=\"checkbox\" ><label for=\"sk-estimator-id-12\" class=\"sk-toggleable__label sk-toggleable__label-arrow\">DecisionTreeRegressor</label><div class=\"sk-toggleable__content\"><pre>DecisionTreeRegressor()</pre></div></div></div></div></div></div></div></div></div></div>"
      ],
      "text/plain": [
       "GridSearchCV(cv=3, estimator=DecisionTreeRegressor(), n_jobs=-1,\n",
       "             param_grid={'max_depth': [10, 20, 30, 40, 50, 60, 70, 80, 90, 100,\n",
       "                                       110, None],\n",
       "                         'min_samples_leaf': [1, 2, 4],\n",
       "                         'min_samples_split': [2, 5],\n",
       "                         'random_state': [0, 1, 2, 3, 4, 5, 6, 7, 8, 9, 10, 11,\n",
       "                                          12, 13, 14, 15, 16, 17, 18, 19, 20,\n",
       "                                          21, 22, 23, 24, 25, 26, 27, 28, 29, ...]},\n",
       "             verbose=2)"
      ]
     },
     "execution_count": 80,
     "metadata": {},
     "output_type": "execute_result"
    }
   ],
   "source": [
    "tuning_model=GridSearchCV(tree_model,param_grid = grid ,cv = 3, verbose = 2, n_jobs = -1)\n",
    "tuning_model.fit(x, y)"
   ]
  },
  {
   "cell_type": "code",
   "execution_count": 81,
   "id": "66da6e40",
   "metadata": {},
   "outputs": [
    {
     "data": {
      "text/plain": [
       "{'max_depth': 10,\n",
       " 'min_samples_leaf': 1,\n",
       " 'min_samples_split': 2,\n",
       " 'random_state': 513}"
      ]
     },
     "execution_count": 81,
     "metadata": {},
     "output_type": "execute_result"
    }
   ],
   "source": [
    "tuning_model.best_params_"
   ]
  },
  {
   "cell_type": "code",
   "execution_count": 82,
   "id": "4c517a9d",
   "metadata": {},
   "outputs": [],
   "source": [
    "tuned_hyper_model= tree.DecisionTreeRegressor(criterion = 'squared_error',max_depth=10,min_samples_split= 2 ,min_samples_leaf=1,random_state=513)"
   ]
  },
  {
   "cell_type": "code",
   "execution_count": 83,
   "id": "f2b2d76a",
   "metadata": {},
   "outputs": [
    {
     "data": {
      "text/html": [
       "<style>#sk-container-id-9 {color: black;background-color: white;}#sk-container-id-9 pre{padding: 0;}#sk-container-id-9 div.sk-toggleable {background-color: white;}#sk-container-id-9 label.sk-toggleable__label {cursor: pointer;display: block;width: 100%;margin-bottom: 0;padding: 0.3em;box-sizing: border-box;text-align: center;}#sk-container-id-9 label.sk-toggleable__label-arrow:before {content: \"▸\";float: left;margin-right: 0.25em;color: #696969;}#sk-container-id-9 label.sk-toggleable__label-arrow:hover:before {color: black;}#sk-container-id-9 div.sk-estimator:hover label.sk-toggleable__label-arrow:before {color: black;}#sk-container-id-9 div.sk-toggleable__content {max-height: 0;max-width: 0;overflow: hidden;text-align: left;background-color: #f0f8ff;}#sk-container-id-9 div.sk-toggleable__content pre {margin: 0.2em;color: black;border-radius: 0.25em;background-color: #f0f8ff;}#sk-container-id-9 input.sk-toggleable__control:checked~div.sk-toggleable__content {max-height: 200px;max-width: 100%;overflow: auto;}#sk-container-id-9 input.sk-toggleable__control:checked~label.sk-toggleable__label-arrow:before {content: \"▾\";}#sk-container-id-9 div.sk-estimator input.sk-toggleable__control:checked~label.sk-toggleable__label {background-color: #d4ebff;}#sk-container-id-9 div.sk-label input.sk-toggleable__control:checked~label.sk-toggleable__label {background-color: #d4ebff;}#sk-container-id-9 input.sk-hidden--visually {border: 0;clip: rect(1px 1px 1px 1px);clip: rect(1px, 1px, 1px, 1px);height: 1px;margin: -1px;overflow: hidden;padding: 0;position: absolute;width: 1px;}#sk-container-id-9 div.sk-estimator {font-family: monospace;background-color: #f0f8ff;border: 1px dotted black;border-radius: 0.25em;box-sizing: border-box;margin-bottom: 0.5em;}#sk-container-id-9 div.sk-estimator:hover {background-color: #d4ebff;}#sk-container-id-9 div.sk-parallel-item::after {content: \"\";width: 100%;border-bottom: 1px solid gray;flex-grow: 1;}#sk-container-id-9 div.sk-label:hover label.sk-toggleable__label {background-color: #d4ebff;}#sk-container-id-9 div.sk-serial::before {content: \"\";position: absolute;border-left: 1px solid gray;box-sizing: border-box;top: 0;bottom: 0;left: 50%;z-index: 0;}#sk-container-id-9 div.sk-serial {display: flex;flex-direction: column;align-items: center;background-color: white;padding-right: 0.2em;padding-left: 0.2em;position: relative;}#sk-container-id-9 div.sk-item {position: relative;z-index: 1;}#sk-container-id-9 div.sk-parallel {display: flex;align-items: stretch;justify-content: center;background-color: white;position: relative;}#sk-container-id-9 div.sk-item::before, #sk-container-id-9 div.sk-parallel-item::before {content: \"\";position: absolute;border-left: 1px solid gray;box-sizing: border-box;top: 0;bottom: 0;left: 50%;z-index: -1;}#sk-container-id-9 div.sk-parallel-item {display: flex;flex-direction: column;z-index: 1;position: relative;background-color: white;}#sk-container-id-9 div.sk-parallel-item:first-child::after {align-self: flex-end;width: 50%;}#sk-container-id-9 div.sk-parallel-item:last-child::after {align-self: flex-start;width: 50%;}#sk-container-id-9 div.sk-parallel-item:only-child::after {width: 0;}#sk-container-id-9 div.sk-dashed-wrapped {border: 1px dashed gray;margin: 0 0.4em 0.5em 0.4em;box-sizing: border-box;padding-bottom: 0.4em;background-color: white;}#sk-container-id-9 div.sk-label label {font-family: monospace;font-weight: bold;display: inline-block;line-height: 1.2em;}#sk-container-id-9 div.sk-label-container {text-align: center;}#sk-container-id-9 div.sk-container {/* jupyter's `normalize.less` sets `[hidden] { display: none; }` but bootstrap.min.css set `[hidden] { display: none !important; }` so we also need the `!important` here to be able to override the default hidden behavior on the sphinx rendered scikit-learn.org. See: https://github.com/scikit-learn/scikit-learn/issues/21755 */display: inline-block !important;position: relative;}#sk-container-id-9 div.sk-text-repr-fallback {display: none;}</style><div id=\"sk-container-id-9\" class=\"sk-top-container\"><div class=\"sk-text-repr-fallback\"><pre>DecisionTreeRegressor(max_depth=10, random_state=513)</pre><b>In a Jupyter environment, please rerun this cell to show the HTML representation or trust the notebook. <br />On GitHub, the HTML representation is unable to render, please try loading this page with nbviewer.org.</b></div><div class=\"sk-container\" hidden><div class=\"sk-item\"><div class=\"sk-estimator sk-toggleable\"><input class=\"sk-toggleable__control sk-hidden--visually\" id=\"sk-estimator-id-13\" type=\"checkbox\" checked><label for=\"sk-estimator-id-13\" class=\"sk-toggleable__label sk-toggleable__label-arrow\">DecisionTreeRegressor</label><div class=\"sk-toggleable__content\"><pre>DecisionTreeRegressor(max_depth=10, random_state=513)</pre></div></div></div></div></div>"
      ],
      "text/plain": [
       "DecisionTreeRegressor(max_depth=10, random_state=513)"
      ]
     },
     "execution_count": 83,
     "metadata": {},
     "output_type": "execute_result"
    }
   ],
   "source": [
    "tuned_hyper_model.fit(x_train,y_train)"
   ]
  },
  {
   "cell_type": "code",
   "execution_count": 84,
   "id": "5e40b35e",
   "metadata": {},
   "outputs": [],
   "source": [
    "grid_tuned_pred=tuned_hyper_model.predict(x_test)"
   ]
  },
  {
   "cell_type": "code",
   "execution_count": 85,
   "id": "c6b28e71",
   "metadata": {},
   "outputs": [
    {
     "data": {
      "text/plain": [
       "0.97"
      ]
     },
     "execution_count": 85,
     "metadata": {},
     "output_type": "execute_result"
    }
   ],
   "source": [
    "np.round(metrics.r2_score(grid_tuned_pred, y_test),2)"
   ]
  },
  {
   "cell_type": "code",
   "execution_count": 86,
   "id": "3791c5be",
   "metadata": {},
   "outputs": [
    {
     "name": "stdout",
     "output_type": "stream",
     "text": [
      "Model Performance\n",
      "Average Error: 4480.2890 degrees.\n",
      "Accuracy = 96.30%.\n"
     ]
    }
   ],
   "source": [
    "Accuracy_GSV = evaluate(tuned_hyper_model,x_test,y_test,grid_tuned_pred)"
   ]
  },
  {
   "cell_type": "code",
   "execution_count": 87,
   "id": "4f3a3c85",
   "metadata": {},
   "outputs": [
    {
     "name": "stdout",
     "output_type": "stream",
     "text": [
      "Improvement of 0.47%.\n"
     ]
    }
   ],
   "source": [
    "print('Improvement of {:0.2f}%.'.format( 100 * (Accuracy_GSV - Base_Accuracy) / Base_Accuracy))"
   ]
  },
  {
   "cell_type": "code",
   "execution_count": 88,
   "id": "f7a6fdd3",
   "metadata": {},
   "outputs": [],
   "source": [
    "Model_Accuracy.append(Accuracy_GSV)"
   ]
  },
  {
   "cell_type": "markdown",
   "id": "d3ce76d9",
   "metadata": {},
   "source": [
    "# Accuracy Before vs After Hyperparameter Tuning"
   ]
  },
  {
   "cell_type": "code",
   "execution_count": 89,
   "id": "5cc53b60",
   "metadata": {},
   "outputs": [],
   "source": [
    "B_Accuracy=[]\n",
    "B_Accuracy.append(Base_Accuracy)\n",
    "model=['Base_model','Rscv_Model','Gscv_Model']\n",
    "Improvement=[np.round((float(x) - B_Accuracy[0]),2) for x in Model_Accuracy ]"
   ]
  },
  {
   "cell_type": "code",
   "execution_count": 90,
   "id": "f5c6c540",
   "metadata": {},
   "outputs": [],
   "source": [
    "df = pd.DataFrame({\"Models\": model,\n",
    "                   \"Accuracy\": Model_Accuracy,\n",
    "                   \"Improvement\":Improvement})"
   ]
  },
  {
   "cell_type": "code",
   "execution_count": 91,
   "id": "0d6648a8",
   "metadata": {},
   "outputs": [
    {
     "data": {
      "text/html": [
       "<div>\n",
       "<style scoped>\n",
       "    .dataframe tbody tr th:only-of-type {\n",
       "        vertical-align: middle;\n",
       "    }\n",
       "\n",
       "    .dataframe tbody tr th {\n",
       "        vertical-align: top;\n",
       "    }\n",
       "\n",
       "    .dataframe thead th {\n",
       "        text-align: right;\n",
       "    }\n",
       "</style>\n",
       "<table border=\"1\" class=\"dataframe\">\n",
       "  <thead>\n",
       "    <tr style=\"text-align: right;\">\n",
       "      <th></th>\n",
       "      <th>Models</th>\n",
       "      <th>Accuracy</th>\n",
       "      <th>Improvement</th>\n",
       "    </tr>\n",
       "  </thead>\n",
       "  <tbody>\n",
       "    <tr>\n",
       "      <th>0</th>\n",
       "      <td>Base_model</td>\n",
       "      <td>95.843627</td>\n",
       "      <td>0.00</td>\n",
       "    </tr>\n",
       "    <tr>\n",
       "      <th>1</th>\n",
       "      <td>Rscv_Model</td>\n",
       "      <td>96.541982</td>\n",
       "      <td>0.70</td>\n",
       "    </tr>\n",
       "    <tr>\n",
       "      <th>2</th>\n",
       "      <td>Gscv_Model</td>\n",
       "      <td>96.295960</td>\n",
       "      <td>0.45</td>\n",
       "    </tr>\n",
       "  </tbody>\n",
       "</table>\n",
       "</div>"
      ],
      "text/plain": [
       "       Models   Accuracy  Improvement\n",
       "0  Base_model  95.843627         0.00\n",
       "1  Rscv_Model  96.541982         0.70\n",
       "2  Gscv_Model  96.295960         0.45"
      ]
     },
     "execution_count": 91,
     "metadata": {},
     "output_type": "execute_result"
    }
   ],
   "source": [
    "df"
   ]
  },
  {
   "cell_type": "markdown",
   "id": "1a0d503f",
   "metadata": {},
   "source": [
    "#  Final Model"
   ]
  },
  {
   "cell_type": "code",
   "execution_count": 101,
   "id": "b127fbc7",
   "metadata": {},
   "outputs": [],
   "source": [
    "Profit_Prediction_Model = tree.DecisionTreeRegressor(criterion = 'squared_error',\n",
    "                                                     min_samples_split = 2, \n",
    "                                                     min_samples_leaf= 1,\n",
    "                                                     max_depth= 70,\n",
    "                                                     random_state=516)"
   ]
  },
  {
   "cell_type": "code",
   "execution_count": 102,
   "id": "67194610",
   "metadata": {},
   "outputs": [
    {
     "data": {
      "text/html": [
       "<style>#sk-container-id-11 {color: black;background-color: white;}#sk-container-id-11 pre{padding: 0;}#sk-container-id-11 div.sk-toggleable {background-color: white;}#sk-container-id-11 label.sk-toggleable__label {cursor: pointer;display: block;width: 100%;margin-bottom: 0;padding: 0.3em;box-sizing: border-box;text-align: center;}#sk-container-id-11 label.sk-toggleable__label-arrow:before {content: \"▸\";float: left;margin-right: 0.25em;color: #696969;}#sk-container-id-11 label.sk-toggleable__label-arrow:hover:before {color: black;}#sk-container-id-11 div.sk-estimator:hover label.sk-toggleable__label-arrow:before {color: black;}#sk-container-id-11 div.sk-toggleable__content {max-height: 0;max-width: 0;overflow: hidden;text-align: left;background-color: #f0f8ff;}#sk-container-id-11 div.sk-toggleable__content pre {margin: 0.2em;color: black;border-radius: 0.25em;background-color: #f0f8ff;}#sk-container-id-11 input.sk-toggleable__control:checked~div.sk-toggleable__content {max-height: 200px;max-width: 100%;overflow: auto;}#sk-container-id-11 input.sk-toggleable__control:checked~label.sk-toggleable__label-arrow:before {content: \"▾\";}#sk-container-id-11 div.sk-estimator input.sk-toggleable__control:checked~label.sk-toggleable__label {background-color: #d4ebff;}#sk-container-id-11 div.sk-label input.sk-toggleable__control:checked~label.sk-toggleable__label {background-color: #d4ebff;}#sk-container-id-11 input.sk-hidden--visually {border: 0;clip: rect(1px 1px 1px 1px);clip: rect(1px, 1px, 1px, 1px);height: 1px;margin: -1px;overflow: hidden;padding: 0;position: absolute;width: 1px;}#sk-container-id-11 div.sk-estimator {font-family: monospace;background-color: #f0f8ff;border: 1px dotted black;border-radius: 0.25em;box-sizing: border-box;margin-bottom: 0.5em;}#sk-container-id-11 div.sk-estimator:hover {background-color: #d4ebff;}#sk-container-id-11 div.sk-parallel-item::after {content: \"\";width: 100%;border-bottom: 1px solid gray;flex-grow: 1;}#sk-container-id-11 div.sk-label:hover label.sk-toggleable__label {background-color: #d4ebff;}#sk-container-id-11 div.sk-serial::before {content: \"\";position: absolute;border-left: 1px solid gray;box-sizing: border-box;top: 0;bottom: 0;left: 50%;z-index: 0;}#sk-container-id-11 div.sk-serial {display: flex;flex-direction: column;align-items: center;background-color: white;padding-right: 0.2em;padding-left: 0.2em;position: relative;}#sk-container-id-11 div.sk-item {position: relative;z-index: 1;}#sk-container-id-11 div.sk-parallel {display: flex;align-items: stretch;justify-content: center;background-color: white;position: relative;}#sk-container-id-11 div.sk-item::before, #sk-container-id-11 div.sk-parallel-item::before {content: \"\";position: absolute;border-left: 1px solid gray;box-sizing: border-box;top: 0;bottom: 0;left: 50%;z-index: -1;}#sk-container-id-11 div.sk-parallel-item {display: flex;flex-direction: column;z-index: 1;position: relative;background-color: white;}#sk-container-id-11 div.sk-parallel-item:first-child::after {align-self: flex-end;width: 50%;}#sk-container-id-11 div.sk-parallel-item:last-child::after {align-self: flex-start;width: 50%;}#sk-container-id-11 div.sk-parallel-item:only-child::after {width: 0;}#sk-container-id-11 div.sk-dashed-wrapped {border: 1px dashed gray;margin: 0 0.4em 0.5em 0.4em;box-sizing: border-box;padding-bottom: 0.4em;background-color: white;}#sk-container-id-11 div.sk-label label {font-family: monospace;font-weight: bold;display: inline-block;line-height: 1.2em;}#sk-container-id-11 div.sk-label-container {text-align: center;}#sk-container-id-11 div.sk-container {/* jupyter's `normalize.less` sets `[hidden] { display: none; }` but bootstrap.min.css set `[hidden] { display: none !important; }` so we also need the `!important` here to be able to override the default hidden behavior on the sphinx rendered scikit-learn.org. See: https://github.com/scikit-learn/scikit-learn/issues/21755 */display: inline-block !important;position: relative;}#sk-container-id-11 div.sk-text-repr-fallback {display: none;}</style><div id=\"sk-container-id-11\" class=\"sk-top-container\"><div class=\"sk-text-repr-fallback\"><pre>DecisionTreeRegressor(max_depth=70, random_state=516)</pre><b>In a Jupyter environment, please rerun this cell to show the HTML representation or trust the notebook. <br />On GitHub, the HTML representation is unable to render, please try loading this page with nbviewer.org.</b></div><div class=\"sk-container\" hidden><div class=\"sk-item\"><div class=\"sk-estimator sk-toggleable\"><input class=\"sk-toggleable__control sk-hidden--visually\" id=\"sk-estimator-id-15\" type=\"checkbox\" checked><label for=\"sk-estimator-id-15\" class=\"sk-toggleable__label sk-toggleable__label-arrow\">DecisionTreeRegressor</label><div class=\"sk-toggleable__content\"><pre>DecisionTreeRegressor(max_depth=70, random_state=516)</pre></div></div></div></div></div>"
      ],
      "text/plain": [
       "DecisionTreeRegressor(max_depth=70, random_state=516)"
      ]
     },
     "execution_count": 102,
     "metadata": {},
     "output_type": "execute_result"
    }
   ],
   "source": [
    "Profit_Prediction_Model_df = Profit_Prediction_Model.fit(x_train,y_train)\n",
    "Profit_Prediction_Model_df"
   ]
  },
  {
   "cell_type": "code",
   "execution_count": 103,
   "id": "17066f5e",
   "metadata": {},
   "outputs": [],
   "source": [
    "Final_pred = Profit_Prediction_Model.predict(x_test)"
   ]
  },
  {
   "cell_type": "code",
   "execution_count": 104,
   "id": "055eba0f",
   "metadata": {},
   "outputs": [
    {
     "data": {
      "text/html": [
       "<div>\n",
       "<style scoped>\n",
       "    .dataframe tbody tr th:only-of-type {\n",
       "        vertical-align: middle;\n",
       "    }\n",
       "\n",
       "    .dataframe tbody tr th {\n",
       "        vertical-align: top;\n",
       "    }\n",
       "\n",
       "    .dataframe thead th {\n",
       "        text-align: right;\n",
       "    }\n",
       "</style>\n",
       "<table border=\"1\" class=\"dataframe\">\n",
       "  <thead>\n",
       "    <tr style=\"text-align: right;\">\n",
       "      <th></th>\n",
       "      <th>Actual</th>\n",
       "      <th>Predicted</th>\n",
       "    </tr>\n",
       "  </thead>\n",
       "  <tbody>\n",
       "    <tr>\n",
       "      <th>0</th>\n",
       "      <td>103282.38</td>\n",
       "      <td>101004.64</td>\n",
       "    </tr>\n",
       "    <tr>\n",
       "      <th>1</th>\n",
       "      <td>144259.40</td>\n",
       "      <td>141585.52</td>\n",
       "    </tr>\n",
       "    <tr>\n",
       "      <th>2</th>\n",
       "      <td>146121.95</td>\n",
       "      <td>141585.52</td>\n",
       "    </tr>\n",
       "    <tr>\n",
       "      <th>3</th>\n",
       "      <td>77798.83</td>\n",
       "      <td>78239.91</td>\n",
       "    </tr>\n",
       "    <tr>\n",
       "      <th>4</th>\n",
       "      <td>191050.39</td>\n",
       "      <td>182901.99</td>\n",
       "    </tr>\n",
       "    <tr>\n",
       "      <th>5</th>\n",
       "      <td>105008.31</td>\n",
       "      <td>108733.99</td>\n",
       "    </tr>\n",
       "    <tr>\n",
       "      <th>6</th>\n",
       "      <td>81229.06</td>\n",
       "      <td>71498.49</td>\n",
       "    </tr>\n",
       "    <tr>\n",
       "      <th>7</th>\n",
       "      <td>97483.56</td>\n",
       "      <td>97427.84</td>\n",
       "    </tr>\n",
       "    <tr>\n",
       "      <th>8</th>\n",
       "      <td>110352.25</td>\n",
       "      <td>108733.99</td>\n",
       "    </tr>\n",
       "    <tr>\n",
       "      <th>9</th>\n",
       "      <td>166187.94</td>\n",
       "      <td>156991.12</td>\n",
       "    </tr>\n",
       "  </tbody>\n",
       "</table>\n",
       "</div>"
      ],
      "text/plain": [
       "      Actual  Predicted\n",
       "0  103282.38  101004.64\n",
       "1  144259.40  141585.52\n",
       "2  146121.95  141585.52\n",
       "3   77798.83   78239.91\n",
       "4  191050.39  182901.99\n",
       "5  105008.31  108733.99\n",
       "6   81229.06   71498.49\n",
       "7   97483.56   97427.84\n",
       "8  110352.25  108733.99\n",
       "9  166187.94  156991.12"
      ]
     },
     "execution_count": 104,
     "metadata": {},
     "output_type": "execute_result"
    }
   ],
   "source": [
    "Profit_Prediction_Model_df = pd.DataFrame({'Actual': y_test, 'Predicted':Final_pred})  \n",
    "Profit_Prediction_Model_df "
   ]
  },
  {
   "cell_type": "code",
   "execution_count": 105,
   "id": "43171747",
   "metadata": {},
   "outputs": [
    {
     "data": {
      "image/png": "[encoded data removed]",
      "text/plain": [
       "<Figure size 640x480 with 1 Axes>"
      ]
     },
     "metadata": {},
     "output_type": "display_data"
    }
   ],
   "source": [
    "# Visualization of Actual vs Predicted\n",
    "plt.plot(Final_pred, label='Predicted',color='b')\n",
    "plt.plot(y_test,label='Actual',color='r')\n",
    "plt.legend(loc=\"upper left\")\n",
    "plt.show()"
   ]
  },
  {
   "cell_type": "markdown",
   "id": "26e7065b",
   "metadata": {},
   "source": [
    "# Evaluation Metrics"
   ]
  },
  {
   "cell_type": "code",
   "execution_count": 106,
   "id": "a27f5cd5",
   "metadata": {},
   "outputs": [
    {
     "data": {
      "text/plain": [
       "5433.930044442978"
      ]
     },
     "execution_count": 106,
     "metadata": {},
     "output_type": "execute_result"
    }
   ],
   "source": [
    "math.sqrt(mean_squared_error(y_test,Final_pred))"
   ]
  },
  {
   "cell_type": "code",
   "execution_count": 107,
   "id": "98916f2a",
   "metadata": {},
   "outputs": [
    {
     "data": {
      "text/plain": [
       "0.97"
      ]
     },
     "execution_count": 107,
     "metadata": {},
     "output_type": "execute_result"
    }
   ],
   "source": [
    "#This is the value of R^2\n",
    "np.round(metrics.r2_score(Final_pred, y_test),2)"
   ]
  },
  {
   "cell_type": "code",
   "execution_count": 108,
   "id": "3abbe12a",
   "metadata": {},
   "outputs": [
    {
     "name": "stdout",
     "output_type": "stream",
     "text": [
      "Model Performance\n",
      "Average Error: 4240.4580 degrees.\n",
      "Accuracy = 96.54%.\n"
     ]
    }
   ],
   "source": [
    "Final_Accuracy = evaluate(tree_model,x_test,y_test,Final_pred)"
   ]
  },
  {
   "cell_type": "code",
   "execution_count": 109,
   "id": "ea205471",
   "metadata": {},
   "outputs": [
    {
     "data": {
      "text/plain": [
       "['Profit_Prediction_Model.joblib']"
      ]
     },
     "execution_count": 109,
     "metadata": {},
     "output_type": "execute_result"
    }
   ],
   "source": [
    "from joblib import dump, load\n",
    "dump(Profit_Prediction_Model_df, 'Profit_Prediction_Model.joblib') "
   ]
  },
  {
   "cell_type": "code",
   "execution_count": null,
   "id": "c0c8fd26",
   "metadata": {},
   "outputs": [],
   "source": []
  }
 ],
 "metadata": {
  "kernelspec": {
   "display_name": "Python 3 (ipykernel)",
   "language": "python",
   "name": "python3"
  },
  "language_info": {
   "codemirror_mode": {
    "name": "ipython",
    "version": 3
   },
   "file_extension": ".py",
   "mimetype": "text/x-python",
   "name": "python",
   "nbconvert_exporter": "python",
   "pygments_lexer": "ipython3",
   "version": "3.11.2"
  }
 },
 "nbformat": 4,
 "nbformat_minor": 5
}
